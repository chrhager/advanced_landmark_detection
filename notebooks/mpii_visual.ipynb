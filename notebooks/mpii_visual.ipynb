{
 "cells": [
  {
   "cell_type": "code",
   "execution_count": 68,
   "metadata": {},
   "outputs": [],
   "source": [
    "import os\n",
    "import sys\n",
    "import copy\n",
    "from pathlib import Path\n",
    "\n",
    "import scipy.io\n",
    "import numpy as np\n",
    "from tqdm import tqdm\n",
    "from matplotlib import pyplot as plt\n",
    "from matplotlib.patches import Circle"
   ]
  },
  {
   "cell_type": "code",
   "execution_count": 90,
   "metadata": {},
   "outputs": [],
   "source": [
    "root = Path(os.getcwd()).parent\n",
    "sys.path.append(root)\n",
    "\n",
    "dataset_name = ['mpii']\n",
    "dataset_path = list(map(lambda x: os.path.join(root, 'data', x), dataset_name))\n",
    "\n",
    "# Format of filenames = [[mpii_img_1, mpii_img_2, ... (mpii_img_k)]]\n",
    "filenames_ = list(map(lambda path, name: open(os.path.join(path, '{}_filenames.txt'.format(name))), dataset_path, dataset_name))\n",
    "filenames = list(map(lambda f: f.read().split(), filenames_))\n",
    "_ = list(map(lambda f: f.close(), filenames_))"
   ]
  },
  {
   "cell_type": "code",
   "execution_count": 70,
   "metadata": {},
   "outputs": [],
   "source": [
    "count = 0\n",
    "# index to joint name conversion\n",
    "mpii_idx_to_jnt = {0: 'rankl', 1: 'rknee', 2: 'rhip', 5: 'lankl', 4: 'lknee', 3: 'lhip',\n",
    "                   6: 'pelvis', 7: 'thorax', 8: 'upper_neck', 11: 'relb', 10: 'rwri', 9: 'head',\n",
    "                   12: 'rsho', 13: 'lsho', 14: 'lelb', 15: 'lwri'}\n",
    "\n",
    "# This template will then be updated as and when we read ground truth\n",
    "mpii_template = dict([(mpii_idx_to_jnt[i], []) for i in range(16)])\n",
    "\n",
    "# Load the mat file.\n",
    "matlab_mpii = scipy.io.loadmat(os.path.join(dataset_path[0], 'joints.mat'), struct_as_record=False)['RELEASE'][0, 0]\n",
    "num_images = annotation_mpii = matlab_mpii.__dict__['annolist'][0].shape[0]"
   ]
  },
  {
   "cell_type": "code",
   "execution_count": 91,
   "metadata": {},
   "outputs": [
    {
     "data": {
      "text/plain": [
       "dict_keys(['_fieldnames', 'annolist', 'img_train', 'version', 'single_person', 'act', 'video_list'])"
      ]
     },
     "execution_count": 91,
     "metadata": {},
     "output_type": "execute_result"
    }
   ],
   "source": [
    "matlab_mpii.__dict__.keys()"
   ]
  },
  {
   "cell_type": "code",
   "execution_count": null,
   "metadata": {},
   "outputs": [],
   "source": []
  },
  {
   "cell_type": "code",
   "execution_count": 93,
   "metadata": {},
   "outputs": [
    {
     "data": {
      "text/plain": [
       "2821"
      ]
     },
     "execution_count": 93,
     "metadata": {},
     "output_type": "execute_result"
    }
   ],
   "source": [
    "len([item[0] for item in matlab_mpii.__dict__['video_list'][0] if not isinstance(item[0], list)])\n"
   ]
  },
  {
   "cell_type": "code",
   "execution_count": 95,
   "metadata": {},
   "outputs": [
    {
     "name": "stdout",
     "output_type": "stream",
     "text": [
      "{'jxJceIuqo_I', '2sVh5Zy3JUg', 'htiCL7avJKo', 'ngOALrNtE-Q', 'yETy-dzmr8Y', '3hEVbrnufgQ', '3J1DOHC24m4', 'TdkSLL_xcAY', 'snyyXD0RAy0', 'AuaC8GdQkSI', 'HAitIFTfAuo', 'hUU0O6czirA', 'Dp11usjNR4Q', 'bJGxM24PRX4', 'aL5nJXePlsA', 'h0D7FLOKU10', 'jrxDwT2arso', 'I8EvKTt_rbI', 'gWg4vqCdoYg', 'Hor3GYvgKQE', 'y6HxORx0g-g', 'IdNGJo4TJmU', 'd_yKAXIwNpk', 'rIBRcQdzWQs', 'WxwlJQryMgI', 'KB8HyzvPTVg', 'avF-rCAce0Q', 'dk8ZESPyY-E', 'CQYJd-7iQb8', '-vY2uUmv6Dk', 'p5rPdrzB1YY', 'FshoSr1qF9w', 't7lad_RXoQo', 'x7bRnYvPZ0Y', 'wg0DEP_Dv4o', 'cyJHA_jrzaI', 'cIZHWPSNKyI', 'ITS0UoPQzq0', 'KfavaCFIm8M', 'LC2DDdhhkgY', '6k9PyP1yKiE', 'xNy2b-OXMZg', 'URe38Qi0oA8', 'A5WoMB9cd-U', '431CnRJAUUQ', 'L69u7csJ_oU', 'n5CbwmGbnOs', 'bMxwbCAIhOw', 'lPwM2vn3bT0', 'Dz7s8Uy4q0I', 'mFgGUMzT0CM', '-9O0D5kO0Tk', 'iKT2BZysEGY', 'BDcuMiglyyg', 'tjM6-wAi9f8', 'Zw8iljkD1So', 'hSRcyh0XLao', 'mXkhIq9jNIU', 'L1aGPeqWNFw', 'CqnxSlyvr-k', 'GKJ1IKqWtfg', 'luBSMGFVjls', 'MT852hP9wVk', '-8JbTKR50rk', 'ObUpaW_5L_E', '4niMx5vtucU', 'bbSOLlso5uA', 'p4yo5vG_Iak', '0eydE5z3w4Q', 'S61hUlSzPkg', '7ArsBppOF3Q', 'qc_ZAHn6Q2E', 'vadwsadywO8', 'cHofgmnFL1k', 'S-r3ID-wUas', 'T80NKrS8M8A', 'oN1x3Ik1t5Y', 'PF1xtuo2JL4', '2snLA3j1Sis', 'vEaAvelyBq4', 'L5BabQZm5qg', 'w6ECVZjgKl0', 'p4OSWWSP_Vk', 'f448jo1lJ2I', '-ig6C_B_OHI', 'rUANGr4sQlY', 'RdZ9qb7gNX0', 'fu67UUuwxls', 'Vyxr5HVPMBg', 'OpLVnnksUwQ', 'PMKOeObhRJ4', 'QCMwg88SaJs', '4UY3H-XMDSw', 'X-0J_jgVu5Y', 'x8q2PiuwNqo', 'irIXRM9mmso', 'Q9XEp03rIgE', 'nZOsk6ef4II', 'AosyFYwGR5Q', 'FFr7BpgJT2M', 'QFVViRdKHFY', 'vK7VzCDNya4', 'Fk6gT7Hz44w', 'RUzYlrUWijY', '_akBwWIQGQQ', 'MCq7873UJbQ', '_WnYSPlREEE', '0jBjg717TJc', 'K8dhleUqQMY', 'VNT0Hmu6OYs', 'nkw7hZJ0LZQ', 'ZxfP7Bw_L_k', 'nMI_uWQ8YU0', 'ELsWssm64fE', '0WaR_17HkTQ', 'XToVLTbQEm4', 'VeSoK6NHmbg', 'bxV8IMVAzzw', 'peA9eKf5zXw', '0KqVMorVdmY', 'VKSyAsur2k8', 'y3Flhhbew7Y', 'y5UJjzKQxv4', 'N1J0cE-sBqo', 'LzlGkpAL5ec', 'AKhmeUGct94', 'DB1MhVkncoI', 'XToTjuCwiS4', '_R6yLqeoJQs', 'aXtC4U1EhMw', 'jZv2DUV2sCw', '9HBItdv3TU8', 'SB400tG_8B8', '_2sSsK6NPmU', 'cQr4ua3dxiM', 'g8nXvzov_Iw', 'f1aAn-EWcDU', 'KPeRhRbHh84', 'Ge7NqiOj60w', '37s01PFd6kM', '3lifGcRfDKw', 'EZJmN_6-Ukc', 'sy62lordS4A', 'F21EW6-Ckgw', 'X8q9MqmaPPc', 'lDEo3eZvk0g', '4FjcBVUfpHE', 'g77ZCKoDk7c', 'xQyZYPZT0tI', 'vCGzq6v_Z1A', 'aeujZtBvMFY', 'yF0vQGFpHrs', 'AJWaFfC60Uc', '3xlhGj40imk', 'zuhzWKbRq6s', 'IxsLVkLJb9g', 'CqzocT49yG0', 'VFgQlx6WR2s', 'PxF_DqACGjc', '6FLSCNfjW-s', 'lLtHlbCtLjI', 'vqKdqW9MLGA', 'nLh5ODBh4R8', 'SrvytcK-aa0', 'u98B9dPN7Mc', 'TUdyDlJuR3A', 'sByTEviM1yU', 'Wl_JmNJYDh8', 'IyTxQVD0NQM', '2P6WID9kC0U', 'LUiqczbDejI', 'MT88DtY_7GA', 'mz2QP3_usFE', 'dycpIPTFJ04', 'qtyGxkVI6kk', 'UYW0vyTC7Eo', 'hwbD5E5cQag', 'Wwl3YyDGplA', '-v_99J8UE5Q', 'FMYgnS8IHaI', 'n0VF_vc-Pzo', 'NbvO23kxEl8', 'JteHkEqkJNs', 'lwISPetNpfI', 'LfiqAVDb6yU', 'WjpUP74cH38', 'ByKf8tzWiKc', 'EtxTEgGakY4', 'kvTxH11O2HU', 'ZKJhzS9rvVI', 'ssM7AkwzHtY', 'RZ-Myuj4llE', 'mUts4cnw7DM', '-wWss_8nDEI', 'ROxVkgQQriE', '0TfbvHs2apM', 'k_aam0nDauw', '_DJ7Pm3mTiY', '25tuOILCgAg', 'i5dJ9H_JkUY', 'zvMWkSAcSVc', '7mRBE11VCTk', 'ExkKJMVSgsI', 'uGODmUgV-DY', 'rREUEfpOqE8', '-2cO6M_ssKo', 'MNGfUUcJgng', 'h-buYXA7T6Y', '56DCqyJhbZs', '9jLLG8SKhY0', 'mXYXUfHZsBg', 'fX8HuVTyosY', 'jwiFi5hbFbI', 'hQi1uqojfIc', 'uCKPS_L49Nc', 'KlGvl3FUD1c', 'Jl808E3dnKQ', 'IajEzbrm87c', 'Ma2uKidcOvg', 'VWPjs-0dYvE', 'Xd3Yz1gqjJQ', '3XUVSk2qKwY', 'vChUP9spIfs', 'RTTfmoklBok', 'e3FHH2Cq5TU', 'X9wTiLAXU_Q', '5p4iFptsVFQ', 'iGNOF1V_3FQ', '5qUvL7wbo1I', 'hFavyvnVcVU', 'GWnRhyOGvqA', 'HqXD4Kx_tXw', 'tXhf9Gem7OY', 'wVICVJN94Sg', 'q5YlfHy5E0Q', '95gv-CD8RWs', 'j-yfUfGNG3g', 'B9Hs0r8qd1E', 'NJBhzh7zVNg', 'qKexaAP4GkA', '_q6Ql9j0aO8', 'yX8daQCCVhM', '74-hvHpyTuo', 'VoPtakh6c3U', 'VgeCPQm0iiQ', 'jqaUtcvCXkU', '8VwTybLbxTI', '62JchDNyM7U', 'Sy17hImhkBA', 'e61tV5L0wMY', 'MIi3CGxb6Xo', 'pE-KObX9O8A', 'wRkeBVMQSgg', 'M_JtR_9ogow', 'NX7QNWEGcNI', 'wMcBo3O251A', 'P2ti2GHvxbw', 'cRem_y7JdoQ', 'oTJJabftHWI', '7juNPKIy-H4', 'ipEcWwAx-ik', '57DiM7Vkcnk', 'WYclLaTBqwk', 'JnqwRQlFl1E', '4pGOThMiUM0', 'fmVCFCVF3U4', 'sVBidkXj9_0', '-pz1FYmjpOg', 'bp1cbCZnd1c', 'N4HhTI9HrKE', 'rTgAJtuxiak', 'UmPXtsJeu5M', 'QnWUzU8jKXQ', 'vhiwYprFXWI', 'KwvCI6NOFls', 'nGearEu2PlU', 'uZ9nOkXdtnk', 'kPqSY3qixMk', 'IA0s4iTWHqg', '3Pimo5nhmx4', '0l34y_k-rl4', '9WpJxn-2h1o', '-niKPokyAnU', 'EOSrYFIryiM', 'jqLrVRnc2_Y', 'ybDKfGEw4aU', 'YzTgv42xGyM', 'ifbdWhAqaC4', 'tGGcnlwjqO0', 's9uO0ZZDFNE', 'oQU6iE5hLEo', 'wLtbmVw3bgI', 'jfb0amyAwiE', 'HHjN4nU6yqc', 'SB6abUFVLEY', 'u5-uiWj0-ZY', 'gErWZnR0ELI', 'oCFy0SeVmUY', '8NVVTeDHNks', 'Nc5F10BQfSs', 'aTSgmq1OHSM', 'wknIpR0IxnA', 'eQu1rNs0an0', 'aFhLsp2lMuY', 'lAbTjeCasbk', '__qsBXlIk2c', 'SrOqis4X7Ic', 'imYnLjVtMFE', 'uCLfq3HooNk', 'bqa1n3wrw1o', 'fDZMck1YL_8', '_IFvablc6EI', 'F-ej3rMWAac', 'otiu9673l_w', '__LRJgU0I5E', 'hxEonaNop7Y', '0RpxWGr4zX0', 'jaMBPNQuA5U', 'akJO_j4Q1sI', 'in0vWHXtpO0', 'KjJMDYx_Nlo', 'z456q5P0YL8', 'ydcfFkIi_kw', 'skoQKRWHC3E', 'FhuHJcg9vMs', 'oSPUMDPsz6k', 'zYjKkvGPbcU', 'Ar5NH-2L8fU', '01fdjWLdX5g', 'XOwszG_-hpI', 'J4fJIAMvcs4', 'ECfLMIKWX0s', 'XB_fTKs_Ah0', 'nH8Pu0O5Omw', 'MoE-moy4d3o', 'QP-OCrx9QkU', 'GDQWqhe-ihU', 'fxJVSRGS40I', 'W7a0uODhUFY', 'VKJWTH7wdVo', 'CFfBvoGs9HI', 'qap6ld2bc4Y', '4aZlSgUBIeE', 'puBz3jDcA24', 'cjoLJlVeXog', 'Ra_xSOcv8xQ', 'BqLUrU4Qq_c', 'T4568GFvKpM', '_RBbjIxuDGk', 'uSZI6s1Y4dw', 'CvkmiqP5shA', '1i7hQR_dnOU', 'ukerpvUFJNc', 'oBqQmokM-rs', 'GTEzFK1Ca5Y', '2o2cRwpiDSk', 'Fbj0mgYzK7o', 'wbKCfbfM6cI', 'EoHp8lhuAEs', 'PQ1ESPYnI2w', 'qzWk5tUD634', 'bcgRblilbj8', 'yUhiw3k5nmU', 'CwXTmKXT8EQ', 'KTJUFD8M-Es', 'BZsTQTAR0Ug', 'ljOQSC3Nsx0', 'Dt8aOHmCNZQ', 'Np83wOMB5Co', 'gNHSzqhuiFI', 'bpCAh5g-bpU', 'NM-q80JcMC0', '7KnV1B8ZeDY', 'tkKHsw2f0Fw', 'qXcH8M4j9fU', 'wW1gyfLCEW4', 'PGrxeMbb6To', 'qIRA5WBLQw4', '7G1RbhpRofg', '1qSZNVR_w0s', 'qOSBUU74SHc', 'HyWwmHrmpxM', 'KJ3_0F0OUHI', 'IyE_KLkPo1c', 'NbcNvPlkDDs', 'HzVF22rk8ZY', 'sCw3xdmoxHQ', 'BQHWEuplF5g', 'vmF6kFQv8os', 'x1t_RglhqV4', 'ZmRtM0Hy0No', '_kCvx_WmF28', 'q1i99s5UusM', 'SDu54SG7bNM', 'rOsF6q9ROfA', 'YJEUyX9U2_U', 'HJVWjCVnVzU', 'GOByCVMkCtc', 'zXI7r0idb-Y', 'ZqeMDGr93Mc', 'mTdMLg3-Xx8', 'v4YP5oR_TAs', 'U0bhE67HuDY', 'rKJan2WBKFo', '1w2gxvxLogQ', 'Cgg-_IHccaQ', 'g_AvtYBE1lQ', '2IV0A-me8xQ', 'QzUCgSHmOhU', 'BQbfysOBxhI', 'hTF5Cg4uzSY', 'eQ_eYqKlkxE', 'b746O3Ltz44', 'JcpVMhIyhp8', '9cS8XADtBwg', 'MSPslSgkp60', 'mgWR0UQdEHg', 'xq1ZB1Ca6nM', 'F6JrJkf1ji4', 'bNqcVbqL_TI', 'NcUXlueI5ko', 'iI71GWC58MI', 'K-cZvGFa0Sg', 'CoE7KlueU2k', 'Rc0hSjzpQ08', 'AGBA2g4yTHM', 'OS0XWoTkjCA', 'GUqKURyKOqI', 'd7ORj7Kikn8', 'HWbByBzvhPU', 'nko5IqhdBgQ', 'zHRfD94HZSs', 'L2jWlbNMFQQ', 'XvM3JYC--hM', 'XftKEIVupf0', 'qiDxVuECcM0', 'SrxZCC8NcH4', 'DRmaNmXMoeo', 'tX55GL2wWgw', 'BEzBhpXDkLE', 'M60eFdtQmJs', 'fcqVNd47Tfg', 'yKoAxnN8rN0', 'K1MOAlpPLzE', 'vkK29D6NHQQ', 'kStHYcXh5n0', 'b8pOLN7pKVM', 'bfGwDnrR4-o', 'LaacyxLraro', 'mlZVz-2IOBU', 'SVip6S9Mzx0', 'D58DRwwQGo0', 'M8X6rmgngIw', 'NPbxggY0Q6c', 'o8mhk8qFmRo', 'mTbQGXAn67o', '0zAMzTHlb1E', '9sFE0gUfmwE', 'k2m-v7Yz0LI', '7z9x6T_lhdg', 'DXatd0U0uHY', 'XKPWh8vd1LE', '4KMRisSShhI', '-Ek60InSknU', 'dknHxdP2j44', 'Q2Iss67gsIg', '0dPVgVO4gfI', 'QUDBxNnBpnQ', 'hrJ2u-muh8U', 'ONcxYJoZ3W8', 'M3fsRW8zgVw', 'oQGAMVHVSSM', 'yD06hK56ONE', 'c5p0qpK2ZDw', 'sfTdQCX3Tu0', '54ExIO-i4k8', 'pJllHOIZTjQ', 'rFj9kwmcl8A', 'vXeHHofA48I', '-ivBAcJCXb0', '2uhBUuso_IA', '0tluPV9lU78', 'dT6gjb48_N0', 'BtlvL-U1IBY', 'JEJq_okXQsA', 'hkxmbi5v3ss', 'q59X9izcjQc', 'DAbIf3Li1go', 'iod7osVfSTo', 'aeCr96_ozbs', 'RgDY-bHxQWY', 'x3ctBUV08_o', 'C6V7HqaI4XU', 'Jue4a3fgNaY', 'QCPOsvplwsc', 'e010a75elms', '0AHYjiwP1XU', '414Rm2osyl8', 'V92vQ-LUft4', 'FK6C-iiv5m4', 'J7Aau_ohddY', 'ycBn-f1a_68', 'mUCobDz7aec', 'UbEPX66noxw', 'aRBUuS6FhF4', '1yESPSS22uE', 'BuUeMREp5V0', '0lxGm2psp7g', 'xzYTQzJOXgY', 'g4u3jeRyGIg', 'QmtEr_5lYLA', 'q2loJV5yvp4', '1Mg7AbLnbwo', 'x7rgX54Q5IA', 'QhQ_Kmqsav0', 'CVYleZq61AA', 'jeP1zGCudLw', '_pJ-4JW6IOk', 'ResrivFj-xU', 'LeEHYdFhK4o', 'pWZxzy2SbbI', '99meSuGXjoc', 'wTYpZ4kIg3Y', 'Y9UAbvLNbks', 'vBGGkwkj3Xk', '3-XvR2Ck1kA', 'ilmEeYeoqg0', '9rkNcVVezcM', 'o51p4TOdzds', '0xccFhyIodM', '8W4BMFPFrzY', 'R2V0LW9tflM', 'lqAP0D0ykhM', 'Z489TMPAUvo', 'zXeFKaktGVg', '33IO4a5sues', '7fI1K0jX0L0', 'EKWM_FTcvi4', 'Kddftric98Q', '6Tg_ByHKgGA', 'kGr8x3IcLLI', 'ahliDwfOqNw', 'OSwZ1-HkSvM', 'MtBtOzYYoQ4', 'vigHVj40dO4', 'l-R99zuEStY', 'udIxaF31uQM', 'lcyQNeg7qfg', 'WNl0I2zHUaw', 'jTrnvfMnMX0', 'k6S9g6ET0K4', 'ppjFrPGRa8s', 'HwYLFo1sCeA', 'CdCiHh_YEg0', '_GQEi4Z529s', 'AxCF73eNr3E', 'Kq1HnakX5C8', 'KcTFlh5xi5M', 'Z494rWkHK44', '9YZB6igi8-I', 'EPrEIOGuTWo', 'S0cdxNdJn-M', 'i1J1aZEWWXc', 'kpKP3eBz3I8', 's_kLkOOV3CE', 'JWUvXVH_HJw', 'Y2RKb6NG0IQ', '-cfvl8Ln2bA', 'bb6b35rBEvY', '9McbQqa-hEM', 'J-dGk8wcqCE', '9BoQLUpCtcw', 's_Jv5U5iaXQ', '9fmo85gQsYk', 'DbusEx91mXk', 'BiC51tqEmME', 'bzfxGhOkVGk', 'jbKKRKr6Q9A', '_gurHKe8RIA', 'IG8bChsgVns', 'w21ix3-_htc', 'FmgH31zvaXE', 'OVRes3LvdKE', '2PhZJj8RZtI', 'JTQYU9gJUKc', 'tJWPwVF30yo', 'tymB0p5GAbE', 'Ilv9V0UjpNM', 'lpsjKfmvPm0', 'yyvmfysBJsg', 'V43wsivRSYk', 'd3rdQf8E0nM', '0xMvWKh8dVE', 'm9VpkAs_w3A', '4DtQjt1iJ0o', 'YGq9aAzugpc', 'XrF4M39L2VY', 'lLlXsqjWGqc', 'Ktw-0pIiVcI', '9A9_sNvJ8zQ', 'OapMBWNgTzU', 'ff0CD4Gvh7c', 'uH9QJYbp3zo', '74S7Gw80ZOo', 'DlxXiEJNl2o', 'aLZbeNmzs1M', 'AM5dcyx8oZk', 'tHTvNe0r35Q', '72BYEdfEIFM', 'z-oozXKt6JM', '5A5sL1Y3odg', 'AOYpU9gg1yc', 'vV8_p6S7b5E', 'i37cBOedFvI', 'iyUsCNWS8OI', 'igEVncRSElw', 'MKK3ZlX4hoM', 'Sr9Pglm4_As', 'OgjTS9P2jVM', 'hNFNpWxOdOQ', 'qNHsBk096aI', 'VuwO03q0rEQ', 'd7cqVfM5F_U', 'mKcMNJGSto4', '5qo4Quz7_s4', 'kq5Ysu7U73Q', '5bPF0D6vVmM', 'lbY0g6IWkfA', 'W0G8avLLs7Q', 'riI-U89iqaI', 'lfKSCE7CwtM', 'p46E8pDFTAM', '9x7FyIJdVsI', 'FaIpD_zfrJI', '8TtwXwtfzHs', 'QjJdlDL4frA', 'z4AOB3CnLTg', 'DNIvycJd6oM', 'RnqCQSogJsk', '0MasOeEsUG0', 'mQ7-creItU0', 'a7_Bypt5uDI', '_0V86XZ3Xjg', '30P2vL52Kzg', 'atu47C-blIg', '_MhkfQOk-GU', 'doeqEar8rIA', 'LsXRj89cWa0', 'gdVXop8go9w', 'DWMXAtXaJ54', '8GtPKP3OpJs', 'pWYJoI8XuP8', 'MXQUVWNvyv0', 'e02g0jCuCRs', '6wqvTUw7yLw', '-wRdgOllrzM', '2UPedlgl0wg', 'xHJ7c_6fvEo', 'ZrBj4AGqICQ', 'azXKxb028mA', '0rvGBSWxV2E', 'BEXCGgRv2SU', 'K6EhC59pgWA', '9n9mO9kRCgI', 'B0bM8Qn7WJE', 'DNQFsRk5kW0', 'NAj5KsjCmyY', '116_uIB2DP4', 'j8svH5DbhpM', 'HDTX91-r3gw', 'rUAqHLT4q4E', '-jlg9ciQ588', 'flflusBYttk', 'uZoL56oHZxA', 'mnPZ8cVGIoU', 'Z2MT9BXZZ2M', 'wqWyo1tdCr4', 'nMWZV8xVEZY', 'wPonKkWjsVY', 'yifJ3fsqVfw', 'X-lRperr1fE', 'JpvDEfuwSOg', 'zC1DaoT0LWQ', 'hPQfGGVjpH0', 'UFEJ01dboBk', 'IH0i3giSxM0', 'a_EmcJcDs-w', 'CyVaSFWhDLM', 'N-9jGqY1BQw', 'UHeW_apOODw', 'dDHydwYVd5U', 'BcbDfqsGU6c', 'wSVvOf5DFho', 'AkAxuB9ysv0', '0G_22o4LIpY', '7fyVSNJ0c14', 'IGTzk0BmjzU', 'RWRoLWutw-8', 'kg5Vh_YBxbw', 'rbKAi6CaTU4', '6Wz66r8AE5Y', '649dZPCTD30', '7QpHSqRA9-Y', 'DmR0sj15aHc', 'h4SuqXjpAms', 'jXJ8MXlPauA', '5P5akoQ_eNI', 'AKqUZlnikeY', 'VBnrpiiX3LU', 'pz51i1XiniI', 'IEJLM29ITMw', 'HPNHOT38E1U', 'rM16gHyVHLI', '5EmQnlu8uPA', 'AubY1yFpv5E', '4-lS351mEkQ', '1v-2myVHEsc', '-7iHacuA-U4', 'AcMwj639YUI', 'zOqbHvjijeI', 'kEjrgDvvLu8', 'laKctaVegPg', 'z47KyUUiQHU', 'MIE0KbGIXjM', '9TgLiT9UPGc', '_BVPiUaQI40', '5PdDRr-VqnE', '8F50U-w1UaU', 'qtWBeGIUlws', '4QxvAvoLdaU', 'C0EVwFS_PdM', 'IHVXDRb4YdA', 'd-c2JzqJtms', 'DbHuJOBsgSE', 'Tv2C_ahp0X0', '4AQt3zQIjjE', 'ymUFbMJJMx8', '0N7uSR7_B0s', 'il1nNWmh04I', 't9y1w1Pi7fs', '-q_4t8OjavA', 'KMMwqURrLR0', 'KTxJg12cgLg', 'Mmx1uuxvTrM', 'yUJvAyeMU4Q', 'JLwTkXl7NWI', 'BGpEXKgU20A', '_sv2LGnZ3FY', 'P5CAFAR1FG0', 'Wab8vWymSBw', 'AJuiNtXXB58', 'WqJRDOghAc8', 'YKRAPsf6Dko', 'ltBW8zToNUQ', '1BPBa27vDxk', 'jc-YjrX4zJk', 'oau7ubwXbFU', '3EDybH4jjTg', 'HyC9FDwjyS4', 'QKFpi-S6ZAo', 'jcDF3KqRx8k', 'acmM1rF25Ys', '7zZS8mIkPbU', 'jDyqlhPvhdw', 'Kvtl8A_zAy4', 'mTMgIViinuQ', 'ZIZ4pbEj9Bo', 'pknm5r7a0Gg', 'MjujO0JY6Cc', 'tUVvec3z-mo', '8c-VSd31lcc', 'WIb_nbDclxc', 'HQt6objmXzc', 'MF9pMXJgaTw', 'fu-7hZXcGR8', 'jXhfikJzQ4w', 'Un04rB9qb3E', 'yEG4WVm8Chs', 'qoRUX71x3iU', 'FPznYUuQVFU', 'KYiEo-mY9OQ', '5QAEVXyGJiQ', 'JeaYk0zgHiM', 'x8t3PFxkgIE', 'zuYF3qLua4c', '8v6QSdBFT74', 'KnkHDTkhick', '3bIWi8S8_ao', 'VmNBt1tzC6k', 'p0KbOjt5JbQ', 'LL5WR0veLr8', 'U4f7jWsqEws', 'iDLNyGLAJ8Q', 'IfZSDjwvbKk', 'DmfqpU65x2g', 'KBPVDheEE0s', 'uGh0pT574lI', '2HebAlInXDs', 'TKU0n1elAV8', 'p7IAuvd87hQ', 'Gnxf8ZO4tHE', '35birmi5aeI', 'KTDCzds2L-k', 'PI9Kvk_HMO8', 'ioFydzeYgt8', 'PASA8FLpfqs', 'CtjQabinV20', 'CmETV1IN-J4', 'thvTJrp-J_I', '1uv9eAdV46c', 'ZhfD22VSUho', 'EFckNYtSKfc', 'Omz49FiKmN8', 'E-BqSs5FA-o', 'fUNC8nyrXgU', 'Bzg77JL5pwY', 'AOLhZFZpeS4', 'TLMM1j3w45E', 'emWwMintI3g', 'DymOR2HUOZI', 'gUA-eGvvcW4', 'iODrN07xIXA', 'zhLbzkXz5wI', 'UHYRBRrCNk0', 'lcWFmn5-alQ', '6fu5qr3inl8', 'b5RdZOzsaks', 'BPgGPWerXoo', 'MenIOW96OJw', 't25c1ifv89k', 'lQXtyktNi0I', 'iUrw_QHwB2c', 'ABhz6GwIttM', 'L-MAxehkwvQ', 'shk3XbDgpHg', 'cm-1mG6fzIA', 'hTPcbQ_68mc', 'YsgIKJ0R1Yg', 'zf6VQkHplzQ', 'C132vSFH1gw', 'dquFqxxq4s4', '_LqvUJMAs8s', 'SDljI5E8igI', 'mf_t66olAi0', 'vwM0nI3bcOc', 'eIo93QvPXvI', 'ucf0ntQptHQ', 'jN7eGgSQwcI', 'Yn6SPjhtpk4', '0t6uXc2xEww', 'p-6NgIL_E5k', 'rt7S3Kui_YY', 'D2q-tVKCP_E', 'jH0UmRE1ahU', 'nD4VObLUOuE', 'DwU70ORXM8A', '6R7p5wMNjHQ', 'tCjAKZwjs1s', 'tesVs-bKmyw', 'nQ364Xk41Yk', '7-HkyTYhvUU', 'k4g5bNp5-8A', 'b3TuFf95LEQ', '7hE7vZvgxX4', 'M19B3XM9LC4', 'RVRFxeDZNao', 'NbKvqcKcqYw', '5ILbPFSc4_4', 'F82xus7Z2cs', 'y9qsWiqpri4', 'HsWYPWmzt5s', 'Al_r9Q2kemY', 'j2FZslOfcxw', 'B5tc1VydbGU', 'skPne7o-iFo', 'uHtaAyK_mAY', 'FB6wnf1bUEk', '7gXTWgMeMgI', 'ABAQEPzE3vY', 'rcVEKmcTVqY', 't_3Cq60P-ks', 'Kk9PMjgnHGg', 'WOf6-8lT9t0', '0oNfg5s-j5E', 'X9cPQRQbu6Y', 'dnOStI2Xqg0', 'Zs0-NA9EZGY', 'zam74qlzGtQ', '3IdIsSUM9Lk', 'TrH0T9Y2gZU', 'Sfj9Mp1m0mA', 'XjVsJyaE3Ak', '-3oRkRxkafI', 'qVNtE8_srXU', '_SS66yCEtwQ', 'x0rt_9dLs1E', 'IxDD-Srs_xg', 'HefhGl1FGi8', 'YiKpd0qfiUM', '57RvnyvjXzM', 'SK3QUktvWbI', 'P17kaxPrbdc', 'gu0SUiuNXMs', 'wOOpFvtF84g', 'M91huFVt8AM', 'mA4_Do0Ma4E', 'FYLdGpzM7t4', 'B0QnGpEnzQA', '6Ckw6vRCf3g', 'atV5GdHI9nQ', 'GfJiFBqIjPE', 'BBsFMxswlY0', '_BOjv_0DH4A', '9NdlukUp3LQ', 'o8IBadeMNgg', 'HN_Tj--qXxg', 'e2ov_QvoLJE', 'ABjlvwXjvZs', 'tjjlA5yt_LM', 'a8IdfA5fXJs', 'DfLgg2t5gQ4', 'l6vtANu66bE', 'ZA3agNDtwvU', 'A-f9sAhnsnc', '4FqNli3h7ro', '_9ci905j96M', 'jm2uivQdyYM', 'of7UwyVqMiw', '4FJIeXU3iF8', 'rbKPBMRj9jY', 'JXkEVQPvU3g', 'cwsLz_ppMx8', 'BFI4hqyL2oo', 'aSeoipsHAJA', 'cbPoR4c6IsU', '9lfMjPIrgw0', '-3bYVkc6Y4Y', 'fNh5191UqbU', 'z6wFfRBuNA0', '9VaowPLXTOE', 'nubhcfOMQE4', 'pGB354Jp_wY', 'GEVJylGRx4s', 'KB9LHmjBAWw', 'dQYv_ml0JAc', 'LXYp9IM8llg', 'fYDtd2RlhZ8', 'WGMHhqRPcs0', '-JQLd8P2Opw', 'DVH-l9lAaTI', 'XHWd1e9Si2g', 'UOqBwULjTpw', '0wOa_08AhKA', 'NedbHTwzEBw', 'GY3H12fAR2U', 'TgxP_olPehE', 'y7VWT9cqefY', 'voEDmSkhlxI', '_9p_pMRVLus', '79PMYwiSYJE', 'YSwvG3-9VD0', '9JfKc7lga-8', '5F458X1L8rg', '7iSaRzjxL3E', 'aH9snagNR6k', 'm9vTVy68rlM', 'VTGcfs9BG6g', '6PN0Fv_PG7I', 'mp7pHfg5XHg', 'zJTRNo-MrmE', 'RGGVRfXgKCo', 'JRzY8oFX75I', 'BC2bXuB9ai0', 'FZk40J_drws', 'vKk4Dzoqh5w', 'oYNI5ES_C1E', '6dUTtDJ8y5U', '6tbpyHBjPlk', 'PzEY3FAvVHo', 'GzDWpRGWr6U', 'PABwe7sGRiM', 'aYQphbGRqKQ', 'VEt7SkAUVa0', 'KWDPlnJYA9Q', 'u8BigIhJ0ek', 'L5mCPw7hL8A', 'loszrEZvS_k', 'IWeJCqcmqUw', 'FZ1st1Vw2kY', 'Dht3wrRX3QY', 'IhPibgAHgss', 'XEHj8srXkWg', 'zwqQrtD2L84', 'aIfmaxfJVzk', 'gX_SuHYoHWM', 'UpWZxonsMig', 'WPhl5T6FwhI', 'SYJy_bsCJqo', 'FCsj4UhtTUI', 'qmk9YEBSF3k', 'aQfMZH6_lj4', '2WMZdkA9aq8', 'BkMfFBlIJ6I', 'zW7U4l0Iq1o', 'WuJTlaQGmGU', '1EkXFARZras', 'Y8UzOCc90cc', 'sdlpyazJxfQ', 'NJtji8R02aM', 'er34VcOUwLk', 'tEZDqoUlEL0', 'Y6gardW9GIU', 'gwfRi4Wn-Tw', '7mBp27m7oek', 'vVNkJYihVqQ', 'dVGo_b14FDA', 'fZzswQaICfM', '23X3qi66Pms', '2WcMRpozO4s', '17ZrGdbGdIQ', 'yC26769yV6A', 'C4Mag7TaDfg', 'o6TNaXtQI4Q', 'dt9PbEtMgOA', 'N3vBCgA2QQg', 'EE4Mv7T8d1w', 'z6qBjxKPo7U', 'k9ueYx3tmLE', 'sF7HsBr0bzY', '8QEJDE2WjPA', 'TKbKR1GgJTc', 'y_EMzXc4y-c', '-8kkpDzlX7M', 'lWo5xEELm2s', '7QlhKkDgPm4', 'Xl5vRIUTPe8', 'FdZGupCFzNk', 'inkTMx9m2fg', 'a3CppkvhoOM', 'hax-WrHTKYU', 'YhuT46dMuC0', '2B-_aQ5vS9E', 'ee9Dc2FZgwY', 's3ggQMrJoGw', 'Ze3g_s5WNRw', 'QnonZMo4_S0', '8J0RQ4A3jvE', 'h9-6dkjMmQ4', 'EagOg32Dnuc', 'EKKtzgPvxTM', 'SGxKhUuZ0Rc', 'W-huS-rmNFg', 'OFhe3kk8U4c', 'TyHLBe6__rc', '8JrXpRlwWII', 'Cgbs9L1ufOo', 'oydOKhH4IpQ', 'mNzHCfFs9qA', 'esQJ9xfozlg', '_cZcbtCRDqg', 'G5j5v1yy4U0', 'yYnRGxmUPU0', '9b86rVq9ZaM', 't6pQSY6OCb4', 'li9GeOfJuDI', 'tOgfK6HnuNk', 'pc-sZAkM0U0', 'u6i1nqsJf7w', '_ZknQFCk3tE', 'xN7cvRCBH18', 'iFyamCz-pSE', 'tm7xIZu0TmQ', '_hakV8nSbLI', '5qmMIFZ7m58', '-j66cZl04w8', '4i6FBXifn4A', 'pnWAKigioII', 'IaYDaMz8jBA', '2alP2ZlmmFA', '82kgmb4yiNE', '18f8pfdyHeM', '56Pq-h8IBjk', '3n50hVBm1RE', 'iHHCwVC2oaM', 'ceHvMper8rU', '7sKH2XV9HpY', 'S8C-y52n2_M', 'CqmG34R5XJw', 'VC4xpI6RImA', 'U182ZnrwxaI', '4-hXqEa2hCg', 'OSNnO2t1Qfg', 'pIrBhcqU9iU', 'tHChgK8tLxk', 'ms96RTL_4PI', '3PImYIDcEfo', 'CqMh_nfAjjo', 'AaMcg0JxODY', '0VckDqWlSxo', '9BGBCtZeKZU', 'UGn62uxnhjg', '7kN386HCFx4', 'UFQEN8Kv6fA', 'jLurxw3iTKM', 'dbTJ1DE40qw', '5M4-hB9t3kY', 'T3QuhzS3l4k', 'bDHRTjaX8nQ', 'MDQzT_j5fqs', 'NEi-lk5e588', 'NcCR2Rsjbqk', '-J5PuH7ylUo', 'Ac2UcdwnKx0', '2hvcXfAGZjo', 'je2hgExZ5wo', 'XPihzhJsCdw', 'oaELrB4i9rs', 'xH4mV7rRBnE', 'o6c0lXc8Nr0', 'F8Ct3dh4FsM', 'eZAt8JXRGVE', 'Bv_n69mUTNE', 'jEGAlc4MYnE', 'EpddDqzT4ZE', 'nikQZ7L73gM', 'y8MZ_yFYYdg', 'N7Kwww19gHM', 'SAUxlwMcoV4', 'kI7Jbf_Kkqc', 'QftcfXhHK4c', 'yK6iQj-I_0w', 'J9nDa5MikcI', '2Nk1vSRUbcU', 'DX6hlpV7Pvs', 'e-5HZZfmpns', '5lFQVXeRWDo', 'YqR1ioMliH8', 'Ef1N4vXMINQ', '90OK-YWjtA0', 'WbtLFiL4r-I', 'i1R88XilSfs', 'mJaX4ZpfULM', 'mbjWR0hP2LU', 'RBT4TvhOU9c', 'zufm7uGFkuY', 'qezi-vnb8Kw', 'T3RY2PXF6MA', 'D8G2HJbxg3o', 'GzruVFcctbI', 'Yh9hW28hO5c', 'HWP2TYc3hJg', 'o9eC3BZ4ChM', 'yH1J4bxp18U', 'jbxXhWD8TUs', 'Nxkv4wjo1zo', 'kpaHls6fyW8', 'NFNbTIzjh-s', 'rVtpqrBaefQ', 'JcsUNV5Wo-Y', 'kewK7wc05Ps', 'gV_lRn0pMm0', 'upa3nl3cG84', 'zjmI-AMiOCA', 'wSYVsNANs2g', 'V3OV6y0m-CM', 'GXUua65GRsM', '1GF9uJ27eSQ', 'dH1iv8Cz60E', 'If7Hrcf04Dw', 'dGDUSqOldRs', 'rfRhlWT5NXQ', 'fE5tweMpWgc', 'st4GjipcIcw', 'c1HCZZSTxgg', 'IPa4zXmajkU', 'LztpDRhstao', 'jdnjyvqqgGI', '7ZmJtYaUTa0', 'Jn8OD5WMWhQ', 'SlA8Ff616iU', 'BS4LCCbKEfo', 'HmW2zONMIu0', 'g1o31fsZxCc', '803798FtUhI', 'jCufnrKRKqw', 'k9ffHM2r9rE', 'Qv1mA1s8p9Y', 'ooehUrZ4ROU', '5wePEqoMYeI', 'j7NJf7bpygE', 'TUaIF071_1Q', 'j9BZBZIvo1U', 'zc1WfycMjEI', 'TgzxqXfGDLQ', '6SqtznJy_7c', '2b1Fiw9uekM', 'FBz86YApGRc', 'asHqGJ7Ymzk', 't2j6BDa9IgA', 'Xko6p3X9Xf8', 'MoOGNdqj-Is', 'VVXgR6luBZ8', '-na0wwaWdTE', '76rml1v9u6w', 'VAMKJMNh51A', 'Z5mQ31uHgdQ', 'mvN8SMXXGic', '14hj-DR1tvY', 'HTTL9y2vHUs', 'oBwl_SniduQ', 'KfPgMaLupfI', 'sWbsKgVXtM0', 'T1gXMi4e78U', 'owRq8UOCPyA', 'aRTVgWw5b-g', 'f1E5g6ZtTDg', 'Y-U88DmH6JU', 'h0mquSeFTrk', 'Ufty4fMkXrM', 'Ru1nGJ6wqFA', '69Lx6LWlees', 'dXaVGw5M-AI', 'ziRrSEWlxBw', '1blqXjMTAUo', 'xobp-uptqtA', 'X-BvgT41vKo', 'dkFsj705ziE', 'o9IrkCCmIwA', '1DEzZMSv2vM', 'N9AlqfbG6uw', '5jn6V-X8ROs', '5gQlgNS5qfY', 'V3gG9mVqHZc', 'hXgPQbsIYMw', 'zz5DvBqit8A', 'RHvt8xW8akE', '_6s_LsLdv0o', 'kw-qXQ3Mjk4', 'fK-dufYeono', 'nru88lXN5No', 'iOswlGkLfnY', 'pdv8a_imMRE', 'dWJIJM3qmyQ', 'aqTYoy4zMZQ', 'QrwyXNdcN4g', 'oF6If4aIUfI', 'd8aFi7V74fs', 'ZI097X_XKgA', 'br4fIQfX_Ec', '5CiuKtBYpEY', 'Y25YXIV0VUY', 'l4u4_JiuuPc', 'lybYf6hakUs', '4xyK8DvCayk', 'KufoKEzbL7g', 'AHYXawLwBA8', 'Qc2lufcc-vE', 'FtWtvCjweoo', '31UENqicQI8', '3GLXlSuXWcs', 'Lr6EVtykvzg', 'JTU-kpXENFk', 'cfKMu6aeMwU', 'V4_SJyhRGqA', 'IaocKTmOLDI', '5Dzx6kKrsYw', 'TacGy351wTQ', 'QMhSKjVJPLc', 'PxL3uD84Hqs', 'N8gHSjgogO4', 'pCShL0RyaEE', 'lckciTUO63I', 'q93rtwaaIFc', 'IemYiVZcGDE', 'DQyBXXWRVQs', '3E-vnTXnkVA', 'm_hTULFhLro', '5kKiNu_f1yY', 'FzQc6u_0oe4', '3zfkSZwHp5Q', 'QoNut7ZnylA', 'Py2y3do966o', 'nXYxB4E9wuE', 'k-AenKkP1LQ', 'fxwNeCGi8fs', 'iozZTJB2XOw', '9rDJ8vLjtk0', '7RLIYJ81UCY', 'Ax-go-t6v9c', 'XRqCLaKClbg', 'sG-PCLB6vjc', 'rz5WCfipaNw', 'VgtnG-IzZMw', 'YvVZAufPmZ8', 'VebO5B0i3W8', '989A_bkYuhk', 'Oy0GhBtEZPU', 'KZRM2sPDaHo', 'frXgzrXMyo4', 'ncXdRXK_r64', 'lvlEj3VyqAg', 'xn9gLyeHBTc', 'pHVmraoOOaA', 'k5GhC8KqGYc', '18ASpUKBCKs', 'UPi_2avvfeg', 'i0AqFL2ltjA', 'A5k78vPkVeI', 'XA10Mu-UIho', 'sD4WC-PDhxY', 'Ia5ZTVQnsBw', 'H4H4_gm9hnw', 'HY6r8dtzOoM', 'o5Bbpu0Qq3g', 'D6wDspD0DRc', 'f1dO8UGAq7A', 'ZyTTG2DFZok', '6cvEYi3VBYo', 'VjAKXwzx2T8', 's9byyWzHTcg', '3r4DWeTnF2A', 'M3bsDo-0TNo', 'lmddL6FF3zs', 'a8qylzaf7m8', 'LTIn49AxRc4', 'g82z-4IKrsc', '5q4qOTTvnYM', 'AdKmPePfneQ', 'xp9AVkB-KMA', 'nWn45fgKZuI', 'Ch6msh4eF7Q', 'HZAmT95Yz7Y', '00yOoo7w-sw', 'aQJT4_-kCQ4', 'ko4GjSdWUq4', '3CluAsk2DmM', '2oAhV4lqIRQ', 'V-SwpDKkHko', 'uIoDa_NgTBY', 'zjJKoHy_128', '07NzAFOq3yQ', '1OEYl7w6zs0', 'M_0HeE_WFOg', 'rOj3GPsCCg8', 'Uz_AAr0GE_0', '3rwcm61YGLQ', 'jlXAoqdyGWU', 'szgjDPgbvIg', 'd_14RqjbG5s', '56GwvV7Cmlk', 'O1CYN7SN7rM', 'lDZiOr7ZsbI', 'aHHx8bUJfa4', 'YYRvPJdlD9A', 'm6ViXU6kp7g', '4FL-R0lSWrc', 'HHLMecMvtFg', 'DeLbclGnX-c', 'uok7FxwbOYk', 'q1ysDS6Y_2I', 'q_O5IIfUYkM', 'X-Wai36Ob-M', 'aAOusnrSsHI', 'L7UsUKbRRf8', 'FoMbQo9Juw4', 's33Kwd2whTA', 'uDFdbFzIPQg', 'QVVjm8ri86E', 'UAZKs248_50', 'tsEpNRzLpwA', 'PkekO0E9k0Q', 'JmgBdEX8t8I', 'uNc2m9Z5roc', 'L1buFSDYWXc', 'yiqh9tcn2WA', 'jMe-gvZHvwA', 'ErGa37GY7-k', 'pK6D598Wib0', 'FXjf4vf0qsc', 'Ng0Hg586VX0', 'V5Sb8ZMNx1k', 'qfI0zAXsDfw', 'xPfh5i5W3fA', 'VRWOTjrac88', 'bKULfR4RjOA', 'l5gZQ-7FOfM', '_hws9Y-y2PU', 'T4DsX59lVxs', 'Egx1ybehZWE', 'KZ5GuDjEFWM', '1dc4toCFGFI', 'IfkFsRSNfuw', 'yUBto_bIe1w', '3hL8NmFIk24', 'MsXdL-pofcI', 'vVaXtnegB0Q', 'SCQT93T-ckI', '4e1G1RUYFJU', 'uQkS3i-JQgg', '5qQw4yzgPqw', 'ODzeyr6MVAY', 'wjNV9yb48tw', 'QeV71T3cAhw', 'I7cHn7HqovA', '6jrFOu-iOzo', 'd4BOIHGXFAw', 'm4I5W7BmMns', 'FJRwOlyuvpc', 'jG1mcJ7Lqi4', 'aAB3xDru1Cs', '-Q5QOL_WU1Q', 'mBCI65h1qw0', 'Bh11xvzUUuM', 'Xp0PlsNq3aU', '0R1z_5bdEwY', 'mdVItJtyYfM', 'RsPgVAwZQsU', '_jlM55Pme9Y', 'uYHSBH4qu3w', 'U8MqERpn-nE', 'ESUV4gTLPD4', '0Rps2N79wQs', 'zSlIlR2l2xY', 'xc-geMAiVGY', '-qTmlvZjBOw', '40948fFQeYQ', 'GBoYY8UxctI', 'qlFWbbtUJgE', 'dPOyAakx1mU', 'Coh16NQjp3k', 'fCSANccDLZw', 'qvB9GGUvX0U', '6f8EWCKd4Xw', 'oe7_X00d6Yw', 'Y72AAhoaF5Q', '5mi77XNYUnY', '0GwhDOx22A8', 'tMP_ObBSl0U', 'Q7oqB7CaE4k', 'E6l-rhyXLHU', 'dd_5YhY5jDk', 'JszWJgPzGtQ', 'ig8z2w2hpn4', '_2bPJnNLJNE', 'bUfGxq5dQsw', 'oNU05og4ii4', 'xZUa0OQ8l0Q', 'rzmOI7fTALY', '4myhxw9WiNE', 'HI3JH3KM72k', 'kwnqlFHCNGA', 'kje1svLYvSw', 'SIw5ChGOADE', 'n4JD-3-UAzM', 'XXbzvUKypyA', 'NDhw5TMn9jA', 'ffHyLH8XL90', '9j3hNGw_ddU', '-2lo5Iz3gRY', 'guDmxl4kVsU', 'mwVupDJD0k4', 'qvj2NBtU3JM', '1WdyWZH42NM', '7CeU6Z070vQ', 'he2OMh-v5Iw', '7HBQhZvUk2A', 'uJZyYeurBCA', 'W2yYfWDU3No', 'lUwBxIm03Jc', 'oXXyRiz2QHY', 'zi5qXMEOKKQ', 'FTIfcBgH8i8', 'B_S1uHs94Us', 'BP-wqhM2kSw', '4OTGJzDZehg', 'SQt-wX5wWIo', 'k3xrBmYWgHc', 'scWeJ-CfqaE', 'iSetcivkC5s', 'qJ0jGLb8YGk', 'y6qwxDhiq48', 'HFXlONfyjek', 'q8c5nvJoRrk', 'x_psxUDKBDA', 'gufdHuFbwJ4', 'FdX7cZYgQ6k', 'lKxw9nkpcb0', 'gBui_-fRKeQ', '4mzPq-w_TD4', '7dcW0tFbxNQ', '-gSkwbXbWdU', 'WWb-8itI2AA', 'Uk0EF6ymz4M', 'ImtDmsC4VrU', '_YoOL3HipvA', 'vRWM68QSCRI', 'lZ_g6Edz6gk', 'YqbearWpFNQ', 'pwJfI0ABIow', 'KTDeGKvgM2A', '52hPU9YVUHs', 'IKYmG53CYQI', 'PYIbXdYiB1U', 'ioCuaEWIK3I', '7YbdzJWLBxs', 'FegxESzSc94', 'p5-kWNMtAQY', '6U_aQwrxUH4', 'ZcUlTWFnwZk', 'VnH0gUDwM48', '9CiOIgWeGCU', 'Pw7y2HFln24', '6-lKexDF3mw', 'k4attYmlZ-M', 'uoy0SdHrLmI', 'LC5vlsVsdq8', 'MgU2WuJkgh8', 'UqwxkyaSws8', 'lhkmmELkgUU', 'FgjXiWESK6E', '90GhXHeaoq0', 's6-d2Wv1sJg', 'SyidTuuusyE', 'SWNNKq-cSCw', 'Ap0IS3XsUzg', 'VD8L_Y3Zayo', 'JvpNDW4LYUE', 'P0y-oRYeiPI', 'b1An1MFwXxQ', '7L-4SRl6x3E', 'U5Ye13oKDEI', 'fCNUlVqoPqc', 'EFlw6Nd3IIc', '7lEUPrfqs-E', '-1nf9pRuuZw', '4vCb-iXWiF4', 'BK89cgOCqcY', 'dCsrhcC7c_0', 'HWvxJdXmTco', 'qS-SxPaeGyU', '6BBn3ACfarw', 'QbqKgzkWbE4', 'Ct5iEk8ue8A', 'YtIHlAppSMU', 'K4ntkbeytAo', '0HayXb7Pi0k', 'n6I3k2hpgpM', '6qGmmda-VyA', '26HWnItgJ80', 'JTHmHQE84_s', 'B8Dh7Colhlk', 'nNIhoToI3PY', 'xk3-YNnYoXY', 'LQBUKpUQJy8', 'Yzmn3p8ydK4', 'TkvWp5ypjg0', '0RiMczWcQ7U', 'w6n_SrjLypA', 'u9SjetdXr-Q', 'naSZ8l0E-xs', 'Qg-R-UHkx-c', 'LYiKt85ogIQ', 'iBM0T02hYL4', 'TY1lNAEzZP0', 'pmud8wFvlBo', 'Yr2IG6t85Jg', '7RtxMoAU8h8', 'c33RUIJ6fYc', 'tTNkckKE36U', 'Gnu_oYcmhVo', 'Hq_JJjOdPAI', '6dKfBjm4m2s', 'a_B_zBoea2o', 'l0zNIAlsol4', '0f9PbZOISk0', 'qS3gUbjcUrI', 'SbxQgS-eaA4', 'W1EWN2b_JLc', '-8OrvLeUVl4', 's3EHHOAkQYE', 'HzL3Lh_8EOs', 'ik2uwnwkAbg', 'hgxUQi-7bSc', 'AMEAiSrUIpo', '8ry2yx5eCp4', 'jml_hnhjltg', 'thvlhJya6qg', 'p4pj27t5B6g', 'DSNmnfOFVl8', 'ObFZgL9_R6g', 'Qhyk2ZbrOEM', 'TeMyjvFZNt0', 'FYH2mYOC3ZM', 'vB_g-RSIGfM', 'gRgLWFIKEjc', 'Kkwe89p_njI', 'yS-rCOCb2tQ', 'E5ThTSYt-rQ', '-gkF7d5ph-4', 'MpMjhaCmFzM', 'gzicAY6uimI', 'hNrZFZr8bNY', 'z9uyny8h1HU', 'xXpYY9O6xJA', 'QeucrZfCw2E', 'loNxUoc7UMw', '97SiwoQ4txk', 'mKrKIWyPpUA', 'CiRs8bN2k78', 'wQRgROBcqnk', '7her4uPCk0U', 'pFHvY1db8_Q', 'b8Er0Hb1imY', 'vGcdEO3lnGQ', 'kL3OQW78hv4', 'Gfa-YZjt8-U', 'NDDg8wK5LLs', 'VXlvc8BKJu8', 'bx3OTU7K9Vo', 'lafWCu86bq4', 'eYl61A1smCI', 'MHNKa5RWXO4', 'jYjHFNlIegs', 'H6MGgaBAdck', 'OvV_vAkK7m8', 'VEgVlCsdZr8', 'm3b9mUiFc0s', 'mwFFtTFF1IA', 'oF2ZE5YTq4o', 'DJqjb9mnzL8', 'fX0yj9Qfccw', '4GTzXB0li00', 'glTL6VqwJPA', 'pBaeRTgaNBM', 'T_y_GBa8yp0', 'KD1J2dP5bDM', '5F_8DurZccU', '5RkYoa4czsk', 'NquaPyDA3NA', 'Al6qCCh7HDs', 'jF4SAmtCyLg', 'cJV6aUayg6o', 'JZFTM2nidSI', 'S61rf8UxH6M', 'Kpl3KeUi7wA', 'hqFn9AU7les', '7qY2neAdzXo', 'uDcfMR2XRPE', 'vtn7eY-Incs', 'wBwBm7Ju9a8', 'zICo9jXNu18', 'DNWWaGvHOxo', 'Xbbr6Udg1UA', 'Hdh8k3IXpEc', 'A5yf_e-Kpnk', 'oRJ0Cram77E', 'uq3pg0JcJSI', 'ihKh6Y2QUhg', 'EaW9bzP-gJU', 'vUIraov5D_o', 'uF29getNUYM', 'TapM2diK_OY', 'qOid4IkCguA', 'jWhWFpAVunE', '1VKnLiNc9aI', 'vq7zNdJn2cA', '0326dy_-CzM', 'hxsYF12_JVk', 'gXmKGdpN7eU', 'JuuKu8mlwW4', 'R3uVrE67H0g', '1jAMauHoRx4', 'wrgn4LZC-es', 'rh0aWbdxXrY', 'GqxDyQ_TfZc', 'V9Q8pfcK9NE', 'xUgiHghs8vs', 'dsUKLwkxffs', 'lUiwrXD8sI4', 'EqPSMqT0qgI', 'PVfziWsm5BY', 'zko1Z6iQKQA', '5Tpvzsq2VAg', 'GFvvTkdoV0Y', 'yoH2HTF6jrs', 'YvHijG4lxQ0', 'FqD_BNsUHfA', 'jLkFPX9zRn0', '2AuLqYh4irI', 'NkRgCGdfRzI', 'mXwAvCpGz7E', '7rbpOPDOEMY', 'UyEyknrabWI', 'U3hWzvml_vE', 'IhI4TaA4cCs', 'JCFccHdchOs', 'r25YcqxeJIQ', 'pHWRFCnR4ms', 'ud4ZRMANIN0', 'kOQ-6EzuPM8', 'TMB38D5fmZk', 'lHpJ5MLHuPU', '6T6Mg6LksN0', '4cJIOzYumGQ', '1QdkjsSU44I', 'DnrAYfyaq08', 'LNxtdnQu1cU', 'barHKYi7Gr8', 'pzBamVQb6T8', 'PlqJnyTiLjU', 'qQ9qDd6Sak8', 'vMjFA4rZKkk', 'FBaH2AG5ExY', 'Rtvvh4IpcrU', 'cELVgDYrVJs', '98LHgDEB9UE', 'qW45GLD_Ht4', 'EGQEoC2jzJ0', 'OHFRAkUsBWg', '7qvwMpnzwHM', 'bC7Dauub-Hw', 'ePu0sbeScYQ', 'BikZRWq8rjQ', '41KPr1wQ1u0', '6OnXj8SCWsk', 'YbFBgk1b0rg', 'rVqeQ9D7EWo', '9jldhCIu4UM', 'QtqyXFUUveE', 'HKN4PjF19sk', 'euhpAyy5sXY', '50dHIwqvp5A', 'ZXEvRoW8lY8', 'FFv7YS-C21A', 'pZPXQPHVaps', 'Yv2KMU98iCY', 'z8lYjL2C62I', '-__sBSuBzcA', 'LCt-h6opmyE', 'pyUZh_Cbw6Q', '6EaxhhyIESs', 'MghiBW3r65M', 'QgaTQ5-XfMM', 'z64v1mmrZ7g', 'rtZXeR3sun0', 'u2iCFeB_8XA', '60RmsvjoJHk', '2w6RaSTKWUU', 'kRPitkebtMQ', 'FRA7Hu3u1GI', 'qqgOpgpdAAA', 'SR1jwwagtaQ', '8SfQCANOiT0', 'kz8r5pQd2Fc', 'rl1KruuwbRY', 'Oo2fsSb-HDU', '2C3i6pnYBdM', 'DfGs2Y5WJ14', '2OSMdQQ-8fE', 'xH4s9jBeaSI', 'iXiKX9jFNyA', 'rgNSrE0BJ8g', 'GgXHuENIY8k', 'MyE9WxtXNOg', '7eBdUrAYo1g', 'o0zuU2yYt3Y', 'HyL6EwD4e6c', 'Jan4zjz_9Tg', 'cHGffkAOlUM', 'JJfGb7Ce8Xw', 'EVodYNGciAA', 'QlgJscA-9vQ', 'uIA06UPCFd8', 'NUp5duS9pp8', 'OqCBhCLLc9I', '9b-oMw_lErs', 'SAHgS3QMiS8', 'LP0uai4xfWY', '-fYMpi8145U', 'ilWBvb-lm7A', 'qBt6Jd-m4KM', 'lAeLTQY8O5o', 'VcmSGMFsLKQ', 'I2qK_27ByLs', 'RBQBCL-IY9A', 'rnyh6xMbkdY', 'UuBTQFMlTIU', 'nxvb905UMms', 'nRoR6Rsvq8E', 'etgH5LKgtQY', 'fvI2Z0C8xxU', 'GyOLWizKXaE', 'fW52h-zNnBo', 'QRxYgARfTRg', 'rsnmCRC86oc', 'EDMbYEGovbc', 'bP5Sj4qAsEU', 'wHhLb5_Gq9w', '5HY9UkgwNY0', 'VcY_lFHb1LU', 'kdUh_rrbAE0', 'cTIeAvLX398', 'vGdjEX9xumU', 'C4cO04hxFvE', 'e9qf9b0ugNs', 'LTLkdU-jnwc', 'lzPKfqrTtAs', 'ibjvKk93__g', 'GXvE03tDeVU', 'LwHvtwOkMsI', 'VKihD4CGk18', '9yAlWH_yoj4', 'VrOycG03p1E', 'pBUGyN6d1xU', 'r1U6IqSMrOk', 'tCNEUMd7I1Y', 'fiBNjEIn1tY', 'gMFDNgZ8ihU', 'vRMpjzicMgo', 'fy7RTOhn7C0', '5uxsFglz2ig', 'PUNE2Fq1Z4g', 'ToVKCdWco4Y', 'qwzpI3wZdbg', 'HEyl0AdP8uE', 'Q725YmVWJGk', '6GVarFf_voI', 'fU8LbHtAYc8', 'l96-XuLsNwY', 'AgOIhC23UPU', 'YScrkdmjFrU', 'N7MR47HWra4', '7i4ArfIw3LM', 'K8b9JE70PEM', 'peExJbL656A', 'uymTGsML0HA', '1hEk15PCix8', 'jnZ-lxqaGFY', 'Apbi9Eb5j5Y', '9kHZGebQfLM', 'kFx1_GEp99A', 'ugT46iJyW2M', 'tLSWpHiisR4', 'znaGqG2Mr5w', 'w_Lv-QDQ4t0', 'yHRkMPqSABM', 'yJvHgcgUd2c', 'viVVy1QDhpY', 'jBbhT2XvUFU', 'Bph2kj2Nor8', 'd4NcjtvA7pk', 'H5IxmeF7CqA', 'uuNRx-2mvQ8', 'TV8putYbiCU', '-7k6RWKpmPA', '6njndL-fIvI', 'EBIhndMnKJM', '-2uisU2cXqQ', 'nENdd_U57x8', 'FWXov5vY4Yg', 'v-QRM86J1-o', 'Y8xomABP-qU', 'lCk0euLLaRw', '8wfhBB5TrjQ', 'qs6fFQarLEM', 'vviGMfToS1E', 'dUX9Rfgjny8', 'uXzeBS_ZrTk', 'Aj3Q1cTb9II', 'jjkIqHWabnI', 'phL-B-GoIyo', 'AKdxDzvqnX0', 'Bk4NI-dzmWw', 'rGRex96EmFY', 'MFCnaqGMxGg', 'D6pYKGN_Yk0', 'tZAD7Zt-s2c', 'yDPPDtXdyyE', 'ZhvKGDJu2Kw', '6E5ee6bTmT0', 'Rdt27vBSDX4', '5y3nsNkYSCA', '6ztk7mISTfM', 'bCD6_kGsF9A', 'H6OdvybarOo', 'MQ6XeZblW7U', '1UFSnjjTb8Y', 'LutqO5LQc7M', 'wt3UU0Hm9CU', 'YcWJk9KEG08', 'n_UA00nGtqs', 'TxVioDSFogQ', 'xKby7g3qGX0', 'G2vACOFTmYs', '6tmSXO3FQPg', 'r_n7MnaR7tg', 'W0JUBhMMD7s', 'grxVHi5LpRo', 'a2qjbBdIIsM', 'kK_QoCmTPE4', 'nQDxtQt9XVE', 'Teh0Cw84QGQ', 'wqj6GEOs5e8', 'y6qGlFhsU1E', '4uxCPq6djUM', 'jnfoBv6I3dw', 'OXFrnT9FwgE', 'XlrqaBG0YHM', 'uIh09qOXtew', 'y3nUIiN037M', 'QJ4xjNrhXU0', 'LjXbr2xT0vc', 'QZcWwe5x7qA', 'i1CUJUCLUpI', 'zRXXsP2OOPc', 'kojaXWWA-xQ', '_P1IH2IBAFU', 'hneWCZTS0LA', 'pGDWUouVB54', 'PW1gQtMHJOs', 'FNp_JLft_tA', 'qR_6A4dXNfs', '_AKwLTcO1kY', 'X1ewm6NGP8Y', 'clq5HndfF8Y', '2m6FHh81fS4', 'qrx344v2O5w', '2le4tGjUWGE', 'lz08VuNh2XA', 'GZmD8wUgfLk', 'FJGoQ3ng2rE', 'cckg_lv3BeQ', 'Inkctigx1fI', 'AJE92HVr-Us', 'noDkFXX5r2Q', 'sDde06dKGcA', 'vW-rv4a1qFg', 'RgXQ7Cqmulg', 'bct_iKZ3qdM', '3eKxxYlHbJs', 'oyS8ytzxLaI', '1PrR4PjDF8M', 'GJneybIf0pI', 'lZ6Z0OEf_uY', 'VaZZbc272SU', 'kOcDyvHQsBk', 'ky6-iKeBzTU', 'osuHcKauirc', 'E1IOYPqOItc', 'bTJmw1oIE10', 'uAaZlTrErQ8', 'Vy7h7AWDO7U', 'KROwL5B8mVo', 'KmeznmfQwOg', '1QNX1VpZDVE', 'K8nda8yPNbI', 'Y1yWFUcgQLs', 'auN7kBeU_3k', 'DKzk_5Iugeg', 'UbyBlZ7gNow', 'osuL6Fvyq4E', 'vbligcROHRM', 'rBwZB2J2qkI', '4GU-FUeD6ac', 'c_IhcsYpIz4', 'xEYXNP4wDic', 'nK8h2DmM0Ww', '-vxgPaeKplQ', '1GCbYdo1YOQ', 'jM6TS6OUmkQ', 'zFMD2UnAD_c', 'fo1hcEcKU9c', '_R1B44fGttE', 'TkUgxG1YctQ', 'NisJUM0GdEs', 'GRStB06uhgE', 'pb5pE3ZQoX4', 'lFaHveD5K5k', '9pyOYnJ0hDY', 'ZQXaF3A-d5E', 'TIsQBaYwGkM', 'FCpe1D9OzNs', 'wE8Vd1kOn4g', 'FZCH_Knze10', 'HUf2jWaPKrI', 'XuzKGl9VJR8', '9qahtvgR6so', 'rPATqHMh1t8', 'YnA1uestwAs', '5lyRGXJsaGA', '88l5LU_1S1Y', 'GQDCl1mBu6k', 'LdZ2uC2Jyo0', 'Qma95u3sKv4', 'JS3PIDgnTNQ', 'v6tDiIPBo1g', 'wcVbNGhP8_8', 'dHgT72jbgqU', 'QjXI87GVRa8', 'sYZikCDKnek', 'MTL8EBBH69o', 'HCPweaCHkr0', 'BwzB4Z3VXuQ', 'YtWqW4Q7rCI', '9pmRvMVBVbo', 'TCZzh5lii7E', 'tqTsvohYH2g', 'SPCY7oHgZ1E', '0RueLXyqDSQ', 'VpEFPfGeeqk', 'V5Qu02rpVz4', 'XAsMB3eRe6g', '3IwOig7sw6c', 'SI1lwBpMadM', '2gKSOw28iuM', 'm37foEooxhY', 'DNBVYeALBGA', 'HjjU3wq1Pwc', 'n1IocTDQ6-U', 'AFphKHWVAYk', 'mtYAFJbshc8', 'wgao9XgY2Y0', 'dEUYkf84yJQ', 'xSNV2lGKJAo', '_D1oE4ESJ5Q', 'l0x4Kpy0Z88', '0KN8SVtgQ5M', 'jjF9bV5bD8I', 'JPIVOXJk2zA', 'HCpaqieC0wA', 'ddZ-xikOXxI', '5TSgLoFhxXg', 'EG5C0-X-v_8', 'H-lOPSSdb6w', 'k10F_aCuysg', 'UpUjWaI-LAM', '8imDQxkh1cU', 'Fnl5uHcmyGU', 'i3vCWHMgNUQ', 'tvizThhgFzQ', '_1QXYrp5rzM', 'x89gqH-oPp8', 'hpvBNHxDHCc', 'l1DbEccmnoY', 'dBSoV5usJNg', '_Mq1WUNjQxk', 'P721qUkJD28', 'qh7BfgEOC0E', 'B7jNofzi53U', 'c9JTAFB_j1Q', 'Y8xDEgp-t4I', 'XGq0ETzZP0E', 'GXC-FOhHYWk', 'TUXum0Lnexg', 'YExsclX294U', 'w8d2nEWCWyg', 'LNPNe-suoLE', 'mUOrHt4BgWU', '3O5p-VPm4co', 'g8gdDqvbDWo', 'pDBCSSwKpuQ', '_p0eoCHZ8BA', 'wlpp5Xmslb8', 'zVpbrkCm6nw', '1KX4GxDGKIA', 'gN7tI7Asbp4', 'hQ_sq371qJ4', 'AkUPtBtBKsw', 'q7evtF1UCJc', 'ElbKE0Xz6nY', 'MAPci6rr85E', '6CrZmU4hUWE', 'cVuF4saUuCU', 'KNBOy51dgsE', 'pKL0iEPd8LQ', '8qAm65NX5X8', 'dydKMBlIQ8Y', 'zG4iNFxScak', 'GKoLdOTdtac', 'OCyum7tPMP0', 'fot9b08TuWc', 'GBRS3xV3Ur0', 'I5DAr1uvJ1c', 'XWA_XSmIhvw', 'zWfzMctN7cA', 'oSHTBGTeXq4', 'S1Bi83rsMpI', '1d1_n-Jvb64', 'bAlZsXUFoQs', 'N6kF4IUHS0g', 'eHTu5GvvQEw', 'ttid5dFqJGs', '4EDTxzllbzY', 'Eo470b4SvlM', 'KDCrKgzkCY8', 'k9ZkELsoI7s', 'PwNMyV6DT-c', 'raI7_awAAIA', 'v8q3PPE7iZg', '35yhPdpdA_o', 'YHYu7Jqc5GE', 'JQMWDGa3RPc', '359JkxsSKO4', 'WZsO4tsrKPw', 'xM3LsgTH4_U', 'eGmPMMydP54', 'tLU5o07szHs', 'FHeRm3DudqQ', 'XknxcRZe6wY', 'uY8ZbZG8s-U', 'K8MKF5v-Z5M', 'pPVhDj2NSJw', '1FxlkazrYaY', 'rVgMZ0vZI9M', 'PJPnvjHQyb0', 'w6snEebRBD0', '-IAdPot7j6M', 'SCZcHXW3MvI', 'y1yBbH5CZ9M', 'twlBJnBvpSY', 'yShoN7HftjQ', 'aZlhbtXJnWU', 'BxjtdIQAO_Q', 'p6r-10ILzWY', 'pvi7rIlsNRY', '8xMOIKkBpzU', 'NOCRyOCrePs', 'OlPf0Pp68DE', 'R7JIQ9KokCA', 'pTOmVgrgtr4', 'TMtnUwEvmBM', 'pi2AaadXnnI', 'qOof3vkHyGQ', '9p24IOA28Us', 'JRPnXk5YNMw', 'RVNngqVrTuo', '9zkapadQwHk', 'kEm085KnOgs', 'Yn3lOtabSNo', '9JqdIqB7d7g', '_vdOOojOSVo', '_5j3MewLJ2A', 'Fs89p3BftIE', '2LQwxTm94Ps', 'xP1TTl86eMU', 'wvQjaj78hKY', '5jD8z9EYFaY', 'xmOHBKhfEiA', 'GG01jRspFM0', '1z_v4AdrOYI', 'XVzca3Mhf80', '4-HFchxzfOU', 'xdok0bJkYEI', '-c2R4VzadV8', 'paov5UNJZOA', 'yXIXecvBgLM', '0mb5g55ly_I', 'NOmh7K5Pygg', 'QWcIfaXXddM', '4Seb0Me1Kjc', 'JowQG1e0Rjw', '-Imppdx4Ebc', 'G1rqtLrXk_U', 'Dj4fO_bCU8s', 'UQYoVlVX68w', 'CxrOm7DNEls', 'FgfqBZlmpGg', 'I-sIYTnOW-g', 'XksFL-yyu5Y', 'bRaUQMhseog', 'C18PvcSZPgY', 'mVa6XuKTKQk', 'pWCCODsR6Cs', 'vY_B1WKQBaI', 'KHukYi372j8', 'eBtCzjxbtk8', '3KjKI8AMAmI', 'QZRqSJJ7Yek', 'TB45UYm9okw', 'gvFHmAfPFl0', 'ridajl8uic0', 'dEaSaHERzVc', 'Lfx1Q7tciZQ', 'nYG2G3fMKes', 'o0v_B63j38w', 'F8LgRMGLSxs', 'N7hRXW-qn5g', 'QLh5aaM6wi8', '9XkvmpNJ-X8', 'rcCTwFpWxpE', 'Zgn3GElSbSs', '2K0OPIAB9tU', '8Y7aRhrTjws', 'Sv65IgXRQ4g', 'rthF9hoNU0o', 'bH_sgcfD14g', 'btPiCtZxqko', 'kgevb5Rm4DQ', 'bEhRr5FikLc', 'Kmzs11R_tXM', 'hcMD72YAv-I', 'I1QBTZi_43Y', 'Ba9Ubc6H4ho', '1yTrnxHQ13o', 'mx_sud0-2pA', 'Nx4Z7j_aXAQ', 'miFN-phS7wg', 'PGMzccUe2K4', 'ePraQBGKu9Y', 'L1VL6LdUv2Q', 's97xGLsJjQk', '9bUHoF08wE8', 'i3ET5FWiMdc', 'XqM590cOv_Y', 'B3ngGSMKzXE', 'kFR7zS3HmV4', '4XGR2diRMQo', 'qYXlFek2bhg', 'koGygGfyvzQ', '4TCEmoqxTWo', 'qLNay-k5s_Q', '7FVxTwAoWWw', 'zFx4PG1DPQc', 'JV5hHV4Yz4k', 'htCkdO_kG8g', 'YTzltxwecE0', 'oTZzd9sv4Jc', '2q6FPTECYmE', 'RRYBNTUG-g0', 'p8jXtSl7rDU', 'ikCu1DaQHl8', 'cHnEox7YW24', 'R_WdsV-MfI0', 'NxH7xr0omlk', 'QP1OowaBOaE', '1GjtyBwaGdM', 'm2Fy9jYE9mg', 'qssE3pmKmhM', 'fmkXuTdSKAQ', 'x-YoREkvoZ0', 'X9N8IdApSVg', '_flhpHORw1s', 'nGwJPEvW8_c', '2TwRJ9uwvN4', 'FYOq-dzDcLk', 'lXTpdiJ4fZE', 'md4G1gwVzzI', '1N9bLpFM7Ik', '8VfyY0LhjfU', '1U8jiKghcAg', 'zbauskpCLZw', '8zZeUcK7CCk', 'sVnfVUWiBTU', 'BdcnHse2bcg', 'bT88w2TPGm0', 'uatj63TBqeg', 'boC5NJEL1vo', 'yr8xifw3Pjk', 'v0uZ-rklTJA', 'EFeaCCjpsZw', 'HjHIqZ1l44I', 'sKZjlvCRjLs', 'BHRlsHP4NH0', 'nPuEU16P3zg', '2PvGXygdZwQ', 'Gw0z6oyJEx4', 'WLn2hdBPihQ', '62USrmpuCWA', 'nIH436lnJ2U', '4RM-Qct9-Wk', '3rNt-rzLqN0', 'Es3Vsfzdr14', 'SVMzX4u3Cec', '20Uy_F6wojM', 'AUUWbrNwhcE', 'Mz-EplMltPs', 'ZO2IIbvH7BQ', '-0YdHqlKV8w', 'pX6lZCxZTwY', 'R7Skw6Wkxqc', 'MgxqZaJ2EIs', 'mQoihVq2Uis', 'dFdFqypCFew', 'yRyYioDpiNY', 'fCuPHBFhkpc', '__ZtQrHnvnE', 'h7NP5dryNsE', 'JBj8k_wceMs', 'GGCZ1xvd-E8', '3wc1OrBRrIM', 'iQM0btlfO1o', 'HmusJ51ObmY', 'YW-5tk4GqrY', 'v0yf4BVwasw', 'o-uEFB_Y9nY', 'wMhQc8T7tqQ', 'oQ281gKyLLs', 'ZXYDt_feUyA', 'xnrIFirp3kg', 'ZWoE1aiG_Fo', '7zF1P-zMAQs', '2LJ8-bDF1p0', 'GcNH1ejn-7c', 'IuSHchu6vYs', 'bBJ4M2sWAKk', 'WVDLoHDNM0U', 'rSQxtrKz35k', '6JKKtmtWUOA', 'tyBFQKy5ZpY', 'xehwopjgKGU', '6OKpaBwNsAE', '-BigrEs1drA', 'l9Nsm8ijq74', 'uN0FkOAiWQY', 'i_sr48QL7GA', 'tyqbrHG7jyg', 'XpEKGJ899ak', 'YhxgArojn_4', 'FMOO0Rs4Z0Y', 'V8SCo3fT3wQ', '3AxtbifeoBY', 'umFl9oMd9q4', '4vhHyqrhhGg', 'R76FWYJIsF0', 'y0XpqGBdxEg', '1Au5MbZQBDQ', 'TPwH2fI-CFw', '3QBL9SRNxSE', '7Aosozo2PAw', 'r-pfvq5CFD4', 'PuQFA-A0tXw', '5oql25kN8O8', 'd7kCdoHQ42g', '6vutONwUKxk', '_jwWvTfdQZA', 'jySBkaOGu8w', 'EoOhJIlOH-A', '1P9iR9d0DUc', '1fbU_MkV7NE', '18v_S6rj8VQ', 'S1qVJfhuAz4', '-R3CR02LGtQ', 'FAdkvjupeWQ', 'nxlAW-BuQEw', '04MNf1YdNxI', 'VdcWX0SzDDM', '34ZTxQaNfis', 'eoU0hrJDh3s', 'loQLuWmK7as', 'wdwdgNdcGa4', 'zdkta4XFcmI', 'h2abFgAcLc8', '3WCBbXZZAxg', '1PzSpIoA4cU', 'VP2yDAIhS_4', 'AJUC2b1QXBI', 'k71KELKhkC4', 'PznaZ3LKzEs', 'g2UICYiDoXk', 'tVe29L7QOvM', 'VoLs46RtLoc', 'RPHNyTt7JV8', '7FyPe2ao_qo', 'wa-3GStYh_I', 'i7K21FW8T2Y', '09eMe_RHtcQ', 'JKCtifrhMEM', 'EpmL9fo_cP8', 'c_d9hfHFZvE', 'bCwdiCuel4I', 'mqTdcITfBWo', '45rEiu6ErCk', 'od0j4aNDGKM', 'pZAR-Mp2lfE', 'GxeqYNF-YHA', 'fvSahqopusw', 'H6gkKOHVSII', 'fh_IDOfcyvI', 'raDPVPB49Cg', 'CGulw4Mzp18', 'aKD9BmQafoE', 'YwJlPD_tXeM', 'lzvV3aQyy4Q', '57nLSJUVRew', '90chZLXnPYk', 'O6JjPYzAF40', '41EPmNFmdqM', 'AYDRDUlwSaA', 'bfcbLnUUTo8', 'RgepF4uRhVw', 'qP7V9Z0FCKg', 'OhnP2dcEVbA', '3eF0whKP6EY', '5BL-m1wIgK0', '6gr0N0UUsng', 'cAOaZtE067w', 'K2SSZfLiO70', 'yscknXOoC1M', '-CFXcI-q-PM', 'E1MsXhcKMxw', 'd74a6uKAz2o', 'qzhNUqXM52M', 'KOyk88CzFrc', '4mUM7ST55G8', 'cdO_fSgIVHI', 'm3XgJaBhHoE', 'mOzRV9BurOQ', 'nr6tIO5iNSc', 'iJez6Hd_OWs', 'KWdjTrLdO0k', '8pGc2-mXaKE', '3ZDuxSaPmJM', 'vSc2wtzFajk', 'ZUwuHTcdFs8', '97PvmmLm0MQ', 'xqo2g3DRPzo', 'U_gn61pAH3Q', '1HEZU-SNEtA', 'ZZTS5a6WaW0', 'gUwbSKmTuZ4', 'AF5jO8sgkbE', '5QdsTBIPu10', 'B4ySCws12Fg', 's1tES1dQA74', '2CHt4J6nJvo', '5XPL-sNjKm8', 'EEvRkbxs_aM', 'NTSZFmOmmnE', 'Dr9q645buro', 'KDp2oPxNV6g', 'uRXRInDv0h4', 'kHQWDxh-EgQ', 'RFX3Y1GdYfM', 'u-zy6uK62S0', 'DyAIsoextoA', 'W5yvhDCBj7I', 'EaGp8Ru_n1M', 'dxNMZCa_DwQ', '6qiyqn6QA4Y', 'vqZkDpzPgz8', '0M69krxJte4', 'A3a6MNgab0c', 'Z9KHqkTOQKU', '4soYSyYg06s', 'JcMOzfurtK4', 'Z86tpjRaiK8', 'YwGqKvSnY1Y', 'kR1sU1X9bfc', 'ou0n5aO_K9Y', 'DxONSTiIB88', 'OOMTdzOwohk', 'x3QIBuUJazw', 'CIlcxjnv2Jc', 'raDZOd8vQWU', '590HAW---ts', 'ZwlJtc_3Ioo', 'h2zCN6Fkl_E', 'Vz-Si45VaA0', 'zQYa7DrmCDg', '7lz4Cy6LcRQ', 'zSRM7cg7vbs', 'J2R4nCP9tm8', 'OL_E8Mj8ZHA', 'himFaGuoVkM', 'TlifVyodswk', 'Mgym0F-T7Js', 'yYnQxEjGq2A', '353_u5tHCHY', 'dST-bRCjVsw', 'iozlxkEjRUs', 'jg3FeTyAOd4', 'L0jx01GLEQg', 'jnYbfwTFzp4', 'ja2POeKQwEw', 'BiHIklCtfzE', 'ytm05QUt4Zs', 'l1thUwp8A44', '6Ha6HcnKW7A', 'Vd2stPH-GN8', 'DUR7XTLGRuE', 'FpYiQqYuNHM', 'b-ZWS1UCpDk', '393RUsH6ozo', 'h7_0ChoQ6Z8', 'E7YrEpuhyMM', 'eKIe10f6piw', '3LQgicUbSv0', '5PAgMOzfdEo', 'CbrbMIbrosg', 'rnD3Qmfo-ag', 'NoufS2uwLH8', 'J-raSv9CvqU', 'QWMeDPLNlx8', 'nV2iwL9yF0s', 'suWSXnEBrJY', 'gxSDdaHzTJM', 'TFN7kAGAmY8', 'YZekqEv8_0w', 'MGgZfHdfxIo', '1CrmQ519reM', 'dYHxHfykt-U', 'MRbI6LwLz94', '9URS7fLd_K4', '6GBQcpsX_B4', '_MUHcgX-GkM', 'cwvcx9fkGBQ', 'ZvaJdUqcSlI', 's8Sp5aOdNTU', 'DLrpzAY46Pw', 'qK5obV3q0lQ', 'CMJ6gk4a7EY', 'TL-dJxx39l0', 'mBp7nVKOuwg', 'P3SVu6gjxgk', 'zStnAFNZsZU', 'Zf-yKYz1dHY', 'ipYq91xsUp4', 'Qv300PtLlTE', 'Hqwku_iHRv8', 'KGR9hEzT_Ww', '_G69JhMUg9Q', 'ZmmnKAqXppM', 'i30HjSeQyEM', 'zHLGFUQ4-TA', '89-oLC45Vu4', 'VgxYlXhm7Ck', 'DK1wUzGHdWI', '2B_koeBLfeE', '5IJ95PO7Dr8', 'fwmQnTaQ6pI', 'xua-2RRbcSk', 'uExBYql-p-Y', 'ysX7JbTVP4M', 'dBKbCugwzUo', 'dG1sfbDcg4Q', 'NkXDy8K-1jY', 'VVQGRaLNBOk', 'XUcdto1h2zs', 'y7nsGfhLA7g', 'TS1EFK96fiI', 'ZvxoGRwaWfk', '-UhQG6cUzJ4', 'TRej3i1ukcU', '3ff3kyDQdFQ', 'SjP2LnPSpS8', 'n3wH1RzOCTc', 'sU6hNt6e988', 'Osl-Cio77cQ', '2F2b1qx0ihs', 'EjGyBhT3kk0', 'loDWVDJhYkA', 'W-Rc9ie8Iu4', 'P8T9V3acGpQ', 'XChr9Ec3vqA', 'j29Idy1R11M', 'QmzsPSnRJqE', 'nVrnHQcvClQ', 'IKnsjMaMEuo', '5y4Rd-Hk0Z4', 'xLR9EKSCTxY', 'kHahV9a6_fY', 'RC-Xkbbks-A', '16TJaAiOlmQ', 'UxOH6IQPCQY', 'UPx9pIA1hwI', 'gyJdiJX1l1k', 'v1gLiXAkoRc', 'ZtAFU8sPzn0', 'tyXev4rrq10', 'JLNRPKgiCkM', 'Mrc0Y5x1UfU', '0hvaaPhUUvs', 'f545LfXWH7o', 'legHHtPK5fA', 'Uwv2dNTqkv4', 'zsaZsl-pykE', '0PNu_gqeeH8', 'n_KESKgNfRs', 'ylj4e3HYQyk', '1Y-tFvc5KXo', 'g67AMvu4PkE', 'MAa2vEDiMPo', 'ggoyET0If0U', 'Lsvyy8XJS1E', 'Mz4BlkmPL5w', 'O9s2pk5F7ek', '3q5URisembI', '_beNGQc02k8', '0skrJnNN3_I', 'SeOFALO9aYw', 'nuuGi_d_BW0', '7hC19WU75f8', 'GK1Cfr7ZWRk', 'WIfNgSzCFHU', 'hG2pktj4QPg', 'EJBMB7h5c9E', 'qz7EvqM7YBQ', 'N4k8E5rMgEQ', 'CpWoYnxv-Fw', 'i9T3QP0grLw', 'Ih4rXgQlDek', '-wu1tMP3-r8', 'xyFfCA34stw', 'hB0zympAJwI', '92EK-EnFU5o', 'wmgqu27r4dI', 'eYNXu_aPIAc', 'p2bz8EUbJBo', 'KJc2D3CwgHY', 't2VyhCH4gAo', 'oUXEMcM8OxY', 'rKA8E78PFxk', 'OkFxy5e24EQ', 'UaliWjVKwnA', '-iYsKivT9rQ', 'LKQH-koE0aY', 'Pmp2I894nSw', 'F6JJPIaRMn8', 'QkbZmpdTuls', 'oFm5GSlPgyY', 'XNlwJc4mMuQ', 'MPk005sljg0', 'SZAm6OLSChc', 'CPLvMJ97tms', 'VGgQSSL5XD8', 'w75gknoxTlg', '1WqlAbeEkLg', '8AQUyIROzJ0', 'GmiIe_8zLOs', 'PZUpjSO4nOs', 'f7gwAxlkzMk', 'oEnBk0h4q54', 'hh5Rga_NydA', 'CIrSlNZh-EE', 'MzqovHjEKE4', 't0D2WaNl7R4', 'MjHYs_S6kJE', 'Lg9e-8dKR6Q', 'YlIfQbuN0P8', 'rycfK_8o0lk', 'Oxx0uj9H4iA', '8okQmqXbv8E', 'pfnh5Z_Itcs', 'zAKL9A9oqfU', '7eBQ2vmQtLE', 'RzEAeqDU0A0', '_DcVh5uh6U4', '6RGyqsWL434', '_ONRAEcQsqw', 'gitWFwr7NVo', 'vwxPAkPJ_AI', 'rEhU1KqPyY4', 'b15MJDxn4WY', 'rB-EpomnJ_w', 'XKwnMNOVuD4', 'xaueS83kFok', 'JNNNy8iuwEs', '328XvAQEFAM', 'TFP-5l7-tEI', 'xUOIDxB7cHY', 'CanYlZX_uyE', '03VhlHOynb8', 'whwsYFWnhwA', 'WvdxwlKiuqI', '-WiLlImxcHg', 'cYLXgQUG2OY', 'KR0NcqTw8RE', 'euM1DdnK58I', '8ecU1e1KEvQ', 'w2wTIKSerZ4', '6BYymNK-f1c', 'LUbPY9rZpbM', '-zZtuljOPNg', '2yR2OSeAgGM', 'Z94NVESBto0', 'hVKQotzu-DY', 'SQf2Mly6Zg8', '7rXcyPhPjBE', 'IX0Qnz0UiD8', 'XpBhcHHmUns', 'SSqyMbSzrtQ', 'ZCJ6SvFB32Q', '_gLJ-h8Rz6c', 'uj-J9Wd5GQ8', 'z_HvL1xS3g0', 'VW-XpG6u3Dk', 'L6c_KPMdHo0', 'RWl9vLmk7_I', 'inHYo72DC7Y', 'lSa8RSfNlYs', 'ke2I1qauN4M', 'qgG93kjTfCo', 'ZNUF0Wsf2eo', 'ZT1MXlzyBLI', 'Iir5PczE66k', 'JA7aLRzxoso', 'E7PQJBii4DQ', 'S4oYPvXMdXU', 'yhKrPEPbPWg', '9Jpn2fg53K4', '0bVu9403Tmc', '4HNFxR6_QDI', '3l_qbnsUyx0', 'UHaKaB28GCY', 'c60r8tX846k', 'OjlRQaOwKtY', 'QI96KUULaBY', 'fncE1iHbh0c', 'VhjosKvyOnA', 'Chl9NdXgqBw', '25jGH0aQ36U', 'OpokABrA0GY', 'buy75dgyTrs', 'IIJfyTHUAyE', 'pRD7Wxhw7y8', 's3q1d_n4JMM', 'bpbAtt-5trc', 'zSIDRHUWlVo', 'qitJN2IUYIk', 'uNh74o7ifW8', 'xVfRIhf6R7Y', '3sO84bGgra8', 'KD9btOof_Bk', '7TxvHDVX2rQ', 'XuLlO6ykF8Y', 'y4z8ty4790M', 'GQFgqvoJf3o', '0hvAfQqWAL4', 'S9CKKW6hda8', 'BcDs3l0pUZc', 'X30HyX84Ceg', '3j6DBWvNDWc', '0HYsLjcg13g', 'qkWhMsB2nY0', '_MR8G1jwM4o', 'tF543Ps8hl8', '0lhZeur2g_8', 'HeLvnSfAnoA', 'pkIV45smS0w', 'fqDmspmr71s', 'ZnHPTUjG4AM', 'WQmJrfjOF7o', '4HWKU0gJQD0', 'xV_oFC8LPc0', 'hi4UP9VhPX8', '_w5QjKgMm7E', 'q2TF-3bWZuU', 'SIKDXylAZy4', '3cbMLeeV1ww', 'Bj-JJQFSSX4', 'cdgQpa1pUUE', 'SN-oPwM711o', 'M5sX3QGFV6s', '9QvNSIURj-c', 'WgUq42uGtnw', '92gAg5V169E', '3zVXEBqnWpg', '8VEthJ1m9Sw', '1zmJ7O-BCP8', 'ptQc7LWsLN0', 'BGVbtnkClLw', 'hgcWxhH2ql4', 'SNlXoXOj1Us', 'q2mW6wE_R78', 'hbvcYnrA3TU', 'vIFy9bViKLU', 'LMWyz7mNFTI', 'q1OFN6DVnUo', 'YdKCBMAMLHM', 'oo43FZ8xPrA', 'fQE60heYmpU', 'S_qznEy-iFE', 'eBuyf_Hnl-s', 'tmAo1VmYWdQ', 'nIvzz3dicXw', 'eN9vhgp6qUs', '8xYKdjdeP78', 'URcDZpz8ZWM', 'p3lz7ocSb2k', 'zV5JILT01po', 'wkihASIKziU', 'WmaWXJz-Jo4', 'WhG1y7ORpj4', 'SMwRH550c28', 'dDw8lI4A1SE', '9JPgsMGN4bk', 'MlbM7Mew0Ys', 'KblB-bb1ZYE', 'PHwMcwGdOy0', 'yOfkwA26hrY', 'ALg8W4xxmSk', 'vRch89rAHc8', 'icZsaiJTk20', 'Zwoj3S92uPo', '9FpTXvzZG7M', 'pKnP88kWTKA', 'ndJqptBTxAY', '92F2_2_txtU', '4tUKBrKmA04', 'sr5lxgdtZjQ', 'TXrL2kHPVuk', '-08Vnk8XONY', '8vdLYp-jMv0', 'waDZGp6N8jo', 'oblWkK88_Vw', '3QDQIA7uPAY', '5W9_9ds9oNM', 'N7Ht8jLKd0s', 'iWptYqYbA2M', 'QPqkTZfvq5E', 'Hnyzfz6j9tg', 'htWnfYBEE_c', 'j43w7M2HTws', 'atoAS5NQcKY', 'tL45m_dNvRI', 'cpvyIYseFYg', 'qXeWjOP65uw', 'M0LH1uU6mGw', '0ftiKVhFx-A', 'n8znU6NnsW4', 'oo-58AIajPA'}\n"
     ]
    }
   ],
   "source": [
    "print(set([item[0] for item in matlab_mpii.__dict__['video_list'][0] if not isinstance(item[0], list)]))"
   ]
  },
  {
   "cell_type": "code",
   "execution_count": 97,
   "metadata": {},
   "outputs": [
    {
     "data": {
      "text/plain": [
       "(24987,)"
      ]
     },
     "execution_count": 97,
     "metadata": {},
     "output_type": "execute_result"
    }
   ],
   "source": [
    "(matlab_mpii.__dict__['annolist'][0]).shape"
   ]
  },
  {
   "cell_type": "code",
   "execution_count": 24,
   "metadata": {},
   "outputs": [
    {
     "name": "stdout",
     "output_type": "stream",
     "text": [
      "Unexpected exception formatting exception. Falling back to standard exception\n"
     ]
    },
    {
     "name": "stderr",
     "output_type": "stream",
     "text": [
      "Traceback (most recent call last):\n",
      "  File \"c:\\Users\\chhag\\Documents\\DSE\\Masterarbeit\\advanced_landmark_detection\\venv\\lib\\site-packages\\IPython\\core\\interactiveshell.py\", line 3553, in run_code\n",
      "    exec(code_obj, self.user_global_ns, self.user_ns)\n",
      "  File \"C:\\Users\\chhag\\AppData\\Local\\Temp\\ipykernel_17604\\1503505785.py\", line 11, in <module>\n",
      "    matlab_mpii = scipy.io.loadmat(os.path.join(dataset_path[0], 'joints.mat'), struct_as_record=False)['RELEASE'][0, 0]\n",
      "  File \"c:\\Users\\chhag\\Documents\\DSE\\Masterarbeit\\advanced_landmark_detection\\venv\\lib\\site-packages\\scipy\\io\\matlab\\_mio.py\", line 227, in loadmat\n",
      "    matfile_dict = MR.get_variables(variable_names)\n",
      "  File \"c:\\Users\\chhag\\Documents\\DSE\\Masterarbeit\\advanced_landmark_detection\\venv\\lib\\site-packages\\scipy\\io\\matlab\\_mio5.py\", line 330, in get_variables\n",
      "    res = self.read_var_array(hdr, process)\n",
      "  File \"c:\\Users\\chhag\\Documents\\DSE\\Masterarbeit\\advanced_landmark_detection\\venv\\lib\\site-packages\\scipy\\io\\matlab\\_mio5.py\", line 290, in read_var_array\n",
      "    return self._matrix_reader.array_from_header(header, process)\n",
      "  File \"_mio5_utils.pyx\", line 665, in scipy.io.matlab._mio5_utils.VarReader5.array_from_header\n",
      "  File \"_mio5_utils.pyx\", line 712, in scipy.io.matlab._mio5_utils.VarReader5.array_from_header\n",
      "  File \"_mio5_utils.pyx\", line 965, in scipy.io.matlab._mio5_utils.VarReader5.read_struct\n",
      "  File \"_mio5_utils.pyx\", line 663, in scipy.io.matlab._mio5_utils.VarReader5.read_mi_matrix\n",
      "  File \"_mio5_utils.pyx\", line 712, in scipy.io.matlab._mio5_utils.VarReader5.array_from_header\n",
      "  File \"_mio5_utils.pyx\", line 965, in scipy.io.matlab._mio5_utils.VarReader5.read_struct\n",
      "  File \"_mio5_utils.pyx\", line 663, in scipy.io.matlab._mio5_utils.VarReader5.read_mi_matrix\n",
      "  File \"_mio5_utils.pyx\", line 712, in scipy.io.matlab._mio5_utils.VarReader5.array_from_header\n",
      "  File \"_mio5_utils.pyx\", line 965, in scipy.io.matlab._mio5_utils.VarReader5.read_struct\n",
      "  File \"_mio5_utils.pyx\", line 663, in scipy.io.matlab._mio5_utils.VarReader5.read_mi_matrix\n",
      "  File \"_mio5_utils.pyx\", line 712, in scipy.io.matlab._mio5_utils.VarReader5.array_from_header\n",
      "  File \"_mio5_utils.pyx\", line 963, in scipy.io.matlab._mio5_utils.VarReader5.read_struct\n",
      "  File \"C:\\Users\\chhag\\AppData\\Local\\Programs\\Python\\Python310\\lib\\copy.py\", line 72, in copy\n",
      "    cls = type(x)\n",
      "KeyboardInterrupt\n",
      "\n",
      "During handling of the above exception, another exception occurred:\n",
      "\n",
      "Traceback (most recent call last):\n",
      "  File \"c:\\Users\\chhag\\Documents\\DSE\\Masterarbeit\\advanced_landmark_detection\\venv\\lib\\site-packages\\IPython\\core\\interactiveshell.py\", line 2144, in showtraceback\n",
      "    stb = self.InteractiveTB.structured_traceback(\n",
      "  File \"c:\\Users\\chhag\\Documents\\DSE\\Masterarbeit\\advanced_landmark_detection\\venv\\lib\\site-packages\\IPython\\core\\ultratb.py\", line 1435, in structured_traceback\n",
      "    return FormattedTB.structured_traceback(\n",
      "  File \"c:\\Users\\chhag\\Documents\\DSE\\Masterarbeit\\advanced_landmark_detection\\venv\\lib\\site-packages\\IPython\\core\\ultratb.py\", line 1326, in structured_traceback\n",
      "    return VerboseTB.structured_traceback(\n",
      "  File \"c:\\Users\\chhag\\Documents\\DSE\\Masterarbeit\\advanced_landmark_detection\\venv\\lib\\site-packages\\IPython\\core\\ultratb.py\", line 1173, in structured_traceback\n",
      "    formatted_exception = self.format_exception_as_a_whole(etype, evalue, etb, number_of_lines_of_context,\n",
      "  File \"c:\\Users\\chhag\\Documents\\DSE\\Masterarbeit\\advanced_landmark_detection\\venv\\lib\\site-packages\\IPython\\core\\ultratb.py\", line 1088, in format_exception_as_a_whole\n",
      "    frames.append(self.format_record(record))\n",
      "  File \"c:\\Users\\chhag\\Documents\\DSE\\Masterarbeit\\advanced_landmark_detection\\venv\\lib\\site-packages\\IPython\\core\\ultratb.py\", line 970, in format_record\n",
      "    frame_info.lines, Colors, self.has_colors, lvals\n",
      "  File \"c:\\Users\\chhag\\Documents\\DSE\\Masterarbeit\\advanced_landmark_detection\\venv\\lib\\site-packages\\IPython\\core\\ultratb.py\", line 792, in lines\n",
      "    return self._sd.lines\n",
      "  File \"c:\\Users\\chhag\\Documents\\DSE\\Masterarbeit\\advanced_landmark_detection\\venv\\lib\\site-packages\\stack_data\\utils.py\", line 145, in cached_property_wrapper\n",
      "    value = obj.__dict__[self.func.__name__] = self.func(obj)\n",
      "  File \"c:\\Users\\chhag\\Documents\\DSE\\Masterarbeit\\advanced_landmark_detection\\venv\\lib\\site-packages\\stack_data\\core.py\", line 734, in lines\n",
      "    pieces = self.included_pieces\n",
      "  File \"c:\\Users\\chhag\\Documents\\DSE\\Masterarbeit\\advanced_landmark_detection\\venv\\lib\\site-packages\\stack_data\\utils.py\", line 145, in cached_property_wrapper\n",
      "    value = obj.__dict__[self.func.__name__] = self.func(obj)\n",
      "  File \"c:\\Users\\chhag\\Documents\\DSE\\Masterarbeit\\advanced_landmark_detection\\venv\\lib\\site-packages\\stack_data\\core.py\", line 677, in included_pieces\n",
      "    scope_pieces = self.scope_pieces\n",
      "  File \"c:\\Users\\chhag\\Documents\\DSE\\Masterarbeit\\advanced_landmark_detection\\venv\\lib\\site-packages\\stack_data\\utils.py\", line 145, in cached_property_wrapper\n",
      "    value = obj.__dict__[self.func.__name__] = self.func(obj)\n",
      "  File \"c:\\Users\\chhag\\Documents\\DSE\\Masterarbeit\\advanced_landmark_detection\\venv\\lib\\site-packages\\stack_data\\core.py\", line 614, in scope_pieces\n",
      "    scope_start, scope_end = self.source.line_range(self.scope)\n",
      "  File \"c:\\Users\\chhag\\Documents\\DSE\\Masterarbeit\\advanced_landmark_detection\\venv\\lib\\site-packages\\stack_data\\core.py\", line 178, in line_range\n",
      "    return line_range(self.asttext(), node)\n",
      "  File \"c:\\Users\\chhag\\Documents\\DSE\\Masterarbeit\\advanced_landmark_detection\\venv\\lib\\site-packages\\executing\\executing.py\", line 333, in asttext\n",
      "    self._asttext = ASTText(self.text, tree=self.tree, filename=self.filename)\n",
      "  File \"c:\\Users\\chhag\\Documents\\DSE\\Masterarbeit\\advanced_landmark_detection\\venv\\lib\\site-packages\\asttokens\\asttokens.py\", line 305, in __init__\n",
      "    super(ASTText, self).__init__(source_text, filename)\n",
      "  File \"c:\\Users\\chhag\\Documents\\DSE\\Masterarbeit\\advanced_landmark_detection\\venv\\lib\\site-packages\\asttokens\\asttokens.py\", line 47, in __init__\n",
      "    source_text = six.ensure_text(source_text)\n",
      "AttributeError: module 'six' has no attribute 'ensure_text'\n"
     ]
    }
   ],
   "source": [
    "count = 0\n",
    "# index to joint name conversion\n",
    "mpii_idx_to_jnt = {0: 'rankl', 1: 'rknee', 2: 'rhip', 5: 'lankl', 4: 'lknee', 3: 'lhip',\n",
    "                   6: 'pelvis', 7: 'thorax', 8: 'upper_neck', 11: 'relb', 10: 'rwri', 9: 'head',\n",
    "                   12: 'rsho', 13: 'lsho', 14: 'lelb', 15: 'lwri'}\n",
    "\n",
    "# This template will then be updated as and when we read ground truth\n",
    "mpii_template = dict([(mpii_idx_to_jnt[i], []) for i in range(16)])\n",
    "\n",
    "# Load the mat file.\n",
    "matlab_mpii = scipy.io.loadmat(os.path.join(dataset_path[0], 'joints.mat'), struct_as_record=False)['RELEASE'][0, 0]\n",
    "num_images = annotation_mpii = matlab_mpii.__dict__['annolist'][0].shape[0]\n",
    "\n",
    "# Load images and GT in batches of 200\n",
    "initial_index = 0\n",
    "batch = 200\n",
    "while initial_index < num_images:\n",
    "    # Initialize empty placeholder\n",
    "    img_dict = {'mpii': {'img': [], 'img_name': [], 'img_pred': [], 'img_gt': []}}\n",
    "    \n",
    "    # Iterate over each image\n",
    "    for img_idx in tqdm(range(initial_index, min(initial_index + batch, num_images))):\n",
    "        annotation_mpii = matlab_mpii.__dict__['annolist'][0, img_idx]\n",
    "        train_test_mpii = matlab_mpii.__dict__['img_train'][0, img_idx].flatten()[0]\n",
    "        person_id = matlab_mpii.__dict__['single_person'][img_idx][0].flatten()\n",
    "\n",
    "        # Load the individual image. Throw an exception if image corresponding to filename not available.\n",
    "        img_name = annotation_mpii.__dict__['image'][0, 0].__dict__['name'][0]\n",
    "        try:\n",
    "            image = plt.imread(os.path.join(dataset_path[0], 'images', img_name))\n",
    "        except FileNotFoundError:\n",
    "            #print('Could not load filename: {}'.format(img_name))\n",
    "            continue\n",
    "\n",
    "        # Avoid modifying the template and create a copy\n",
    "        gt_per_image = copy.deepcopy(mpii_template)\n",
    "\n",
    "        # Flag is set to true if atleast one person exists in the image with joint annotations.\n",
    "        # If Flag == True, then the image and GT is considered for visualization, else skip\n",
    "        annotated_person_flag = False\n",
    "        \n",
    "        # Iterate over persons\n",
    "        for person in (person_id - 1):\n",
    "            try:\n",
    "                annopoints_img_mpii = annotation_mpii.__dict__['annorect'][0, person].__dict__['annopoints'][0, 0]\n",
    "                num_joints = annopoints_img_mpii.__dict__['point'][0].shape[0]\n",
    "\n",
    "                # Iterate over present joints\n",
    "                for i in range(num_joints):\n",
    "                    x = annopoints_img_mpii.__dict__['point'][0, i].__dict__['x'].flatten()[0]\n",
    "                    y = annopoints_img_mpii.__dict__['point'][0, i].__dict__['y'].flatten()[0]\n",
    "                    id_ = annopoints_img_mpii.__dict__['point'][0, i].__dict__['id'][0][0]\n",
    "                    vis = annopoints_img_mpii.__dict__['point'][0, i].__dict__['is_visible'].flatten()\n",
    "                    print(x, y, id_, vis)\n",
    "                    # No entry corresponding to visible\n",
    "                    if vis.size == 0:\n",
    "                        vis = 1\n",
    "                    else:\n",
    "                        vis = vis.item()\n",
    "\n",
    "                    gt_per_joint = np.array([x, y, vis]).astype(np.float16)\n",
    "                    gt_per_image[mpii_idx_to_jnt[id_]].append(gt_per_joint)\n",
    "\n",
    "                annotated_person_flag = True\n",
    "            except KeyError:\n",
    "                count += 1\n",
    "                # Person 'x' could not have annotated joints, hence move to person 'y'\n",
    "                continue\n",
    "\n",
    "        if not annotated_person_flag:\n",
    "            count += 1\n",
    "            continue\n",
    "\n",
    "        # Update the template copy with image, name and ground truth\n",
    "        img_dict['mpii']['img'].append(image)\n",
    "        img_dict['mpii']['img_name'].append(img_name)\n",
    "        img_dict['mpii']['img_gt'].append(gt_per_image)\n",
    "    \n",
    "    initial_index += batch"
   ]
  },
  {
   "cell_type": "code",
   "execution_count": 15,
   "metadata": {},
   "outputs": [
    {
     "data": {
      "text/plain": [
       "{'mpii': {'img': [], 'img_name': [], 'img_pred': [], 'img_gt': []}}"
      ]
     },
     "execution_count": 15,
     "metadata": {},
     "output_type": "execute_result"
    }
   ],
   "source": [
    "img_dict"
   ]
  }
 ],
 "metadata": {
  "kernelspec": {
   "display_name": "venv",
   "language": "python",
   "name": "python3"
  },
  "language_info": {
   "codemirror_mode": {
    "name": "ipython",
    "version": 3
   },
   "file_extension": ".py",
   "mimetype": "text/x-python",
   "name": "python",
   "nbconvert_exporter": "python",
   "pygments_lexer": "ipython3",
   "version": "3.10.7"
  }
 },
 "nbformat": 4,
 "nbformat_minor": 2
}
